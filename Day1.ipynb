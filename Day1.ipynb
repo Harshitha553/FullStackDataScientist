{
 "cells": [
  {
   "cell_type": "code",
   "execution_count": null,
   "id": "b52fbf2a",
   "metadata": {},
   "outputs": [
    {
     "name": "stdout",
     "output_type": "stream",
     "text": [
      "Factorial of 4  is 24\n"
     ]
    }
   ],
   "source": [
    "def factorial(n):\n",
    "    if n==0 or n==1:\n",
    "        return 1\n",
    "    else:\n",
    "        return n*factorial(n-1)\n",
    "num=int(input(\"Enter a number:\"))\n",
    "print(\"Factorial of\", num,\" is\",factorial(num))"
   ]
  },
  {
   "cell_type": "code",
   "execution_count": 30,
   "id": "5d0b9e97",
   "metadata": {},
   "outputs": [
    {
     "ename": "ValueError",
     "evalue": "invalid literal for int() with base 10: ''",
     "output_type": "error",
     "traceback": [
      "\u001b[31m---------------------------------------------------------------------------\u001b[39m",
      "\u001b[31mValueError\u001b[39m                                Traceback (most recent call last)",
      "\u001b[36mCell\u001b[39m\u001b[36m \u001b[39m\u001b[32mIn[30]\u001b[39m\u001b[32m, line 11\u001b[39m\n\u001b[32m      8\u001b[39m     \u001b[38;5;28;01melse\u001b[39;00m:\n\u001b[32m      9\u001b[39m         \u001b[38;5;28;01mreturn\u001b[39;00m fibonacci(n-\u001b[32m1\u001b[39m) + fibonacci(n-\u001b[32m2\u001b[39m)\n\u001b[32m---> \u001b[39m\u001b[32m11\u001b[39m num = \u001b[38;5;28;43mint\u001b[39;49m\u001b[43m(\u001b[49m\u001b[38;5;28;43minput\u001b[39;49m\u001b[43m(\u001b[49m\u001b[33;43m\"\u001b[39;49m\u001b[33;43mEnter number of terms: \u001b[39;49m\u001b[33;43m\"\u001b[39;49m\u001b[43m)\u001b[49m\u001b[43m)\u001b[49m\n\u001b[32m     12\u001b[39m \u001b[38;5;28;01mfor\u001b[39;00m i \u001b[38;5;129;01min\u001b[39;00m \u001b[38;5;28mrange\u001b[39m(\u001b[32m1\u001b[39m, num+\u001b[32m1\u001b[39m):\n\u001b[32m     13\u001b[39m     \u001b[38;5;28mprint\u001b[39m(fibonacci(i), end=\u001b[33m\"\u001b[39m\u001b[33m \u001b[39m\u001b[33m\"\u001b[39m)\n",
      "\u001b[31mValueError\u001b[39m: invalid literal for int() with base 10: ''"
     ]
    }
   ],
   "source": [
    "def fibonacci(n):\n",
    "    if n <= 0:\n",
    "        return \"Invalid input\"\n",
    "    elif n == 1:\n",
    "        return 0\n",
    "    elif n == 2:\n",
    "        return 1\n",
    "    else:\n",
    "        return fibonacci(n-1) + fibonacci(n-2)\n",
    "\n",
    "num = int(input(\"Enter number of terms: \"))\n",
    "for i in range(1, num+1):\n",
    "    print(fibonacci(i), end=\" \")\n"
   ]
  },
  {
   "cell_type": "code",
   "execution_count": null,
   "id": "de837683",
   "metadata": {},
   "outputs": [
    {
     "name": "stdout",
     "output_type": "stream",
     "text": [
      "Sum of digits: 6\n"
     ]
    }
   ],
   "source": [
    "def sum(n):\n",
    "    if n==0:\n",
    "        return 0\n",
    "    else:\n",
    "        return n%10 + sum(n//10)\n",
    "num=int(input(\"Enter a number:\"))\n",
    "print(\"Sum of digits:\",sum(num))"
   ]
  },
  {
   "cell_type": "code",
   "execution_count": null,
   "id": "cecabfbe",
   "metadata": {},
   "outputs": [],
   "source": [
    "def power(base,exp):\n",
    "    if exp==0:\n",
    "        return 1\n",
    "    else:\n",
    "        return base*power(base,exp-1)\n",
    "print(power(2,5))"
   ]
  },
  {
   "cell_type": "code",
   "execution_count": null,
   "id": "4d7679ed",
   "metadata": {},
   "outputs": [
    {
     "name": "stdout",
     "output_type": "stream",
     "text": [
      "[2, 3, 5, 7, 11, 13, 17, 19]\n"
     ]
    }
   ],
   "source": [
    "def prime_numbers_upto(n):\n",
    "    primes = []\n",
    "    for num in range(2, n+1):\n",
    "        is_prime = True\n",
    "        for i in range(2, int(num**0.5) + 1):\n",
    "            if num % i == 0:\n",
    "                is_prime = False\n",
    "                break\n",
    "        if is_prime:\n",
    "            primes.append(num)\n",
    "    return primes\n",
    "print(prime_numbers_upto(20))\n"
   ]
  },
  {
   "cell_type": "code",
   "execution_count": null,
   "id": "7b1998d9",
   "metadata": {},
   "outputs": [
    {
     "name": "stdout",
     "output_type": "stream",
     "text": [
      "Palindrome? True\n"
     ]
    }
   ],
   "source": [
    "def is_palindrome(s):\n",
    "    s = s.replace(\" \", \"\").lower()\n",
    "    if len(s) <= 1:\n",
    "        return True\n",
    "    if s[0] != s[-1]:\n",
    "        return False\n",
    "    return is_palindrome(s[1:-1])\n",
    "\n",
    "word = input(\"Enter a word: \")\n",
    "print(\"Palindrome?\", is_palindrome(word))"
   ]
  },
  {
   "cell_type": "code",
   "execution_count": null,
   "id": "6c647fae",
   "metadata": {},
   "outputs": [
    {
     "name": "stdout",
     "output_type": "stream",
     "text": [
      "Anagram? True\n"
     ]
    }
   ],
   "source": [
    "def anagram(s1, s2):\n",
    "    if sorted(s1) == sorted(s2):\n",
    "        return True\n",
    "    else: \n",
    "        return False\n",
    "str1 = input(\"Enter 1st string: \")\n",
    "str2 = input(\"Enter 2nd string: \")\n",
    "print(\"IsAnagram?\", anagram(str1, str2))\n"
   ]
  },
  {
   "cell_type": "code",
   "execution_count": null,
   "id": "c114454c",
   "metadata": {},
   "outputs": [
    {
     "name": "stdout",
     "output_type": "stream",
     "text": [
      "Lowercase and Uppercase counts: (5, 0)\n"
     ]
    }
   ],
   "source": [
    "def count(s):\n",
    "    lcount = 0\n",
    "    ucount = 0\n",
    "    for ch in s:\n",
    "        if ch.islower():\n",
    "            lcount += 1\n",
    "        elif ch.isupper():\n",
    "            ucount += 1\n",
    "    return lcount, ucount   \n",
    "\n",
    "s = input(\"Enter a word: \")\n",
    "print(\"Lowercase and Uppercase count:\", count(s))\n"
   ]
  },
  {
   "cell_type": "code",
   "execution_count": null,
   "id": "25387714",
   "metadata": {},
   "outputs": [
    {
     "name": "stdout",
     "output_type": "stream",
     "text": [
      "Longest word: amazing\n"
     ]
    }
   ],
   "source": [
    "def longest_word(sen):\n",
    "    words = sen.split()\n",
    "    return max(words, key=len)\n",
    "\n",
    "s = input(\"Enter a sentence: \")\n",
    "print(\"Longest word:\", longest_word(s))\n"
   ]
  },
  {
   "cell_type": "code",
   "execution_count": null,
   "id": "e58f468e",
   "metadata": {},
   "outputs": [
    {
     "name": "stdout",
     "output_type": "stream",
     "text": [
      "Generate pass: ITbU:?\n"
     ]
    }
   ],
   "source": [
    "import random \n",
    "import string\n",
    "def random_password(length=6):\n",
    "    char=string.ascii_letters+string.digits+string.punctuation\n",
    "    return ''.join(random.choice(char) for _ in range(length))\n",
    "print(\"Generate pass:\",random_password(6))\n"
   ]
  },
  {
   "cell_type": "code",
   "execution_count": 31,
   "id": "8fac63e2",
   "metadata": {},
   "outputs": [
    {
     "name": "stdout",
     "output_type": "stream",
     "text": [
      "Square root: 5.0\n",
      "Factorial: 120\n",
      "Sin value: 1.0\n",
      "Cos value: 0.5000000000000001\n"
     ]
    }
   ],
   "source": [
    "import math\n",
    "def square_root(n):\n",
    "    if n == 0:\n",
    "        return 0\n",
    "    else:\n",
    "        return math.sqrt(n)\n",
    "\n",
    "def fact(n):\n",
    "    return math.factorial(n)\n",
    "\n",
    "def sin_1(n):\n",
    "    return math.sin(math.radians(n))  \n",
    "\n",
    "def cos_1(n):\n",
    "    return math.cos(math.radians(n)) \n",
    "\n",
    "num = int(input(\"Enter number for square root: \"))\n",
    "print(\"Square root:\", square_root(num))\n",
    "\n",
    "num1 = int(input(\"Enter number for factorial: \"))\n",
    "print(\"Factorial:\", fact(num1))\n",
    "\n",
    "num2 = int(input(\"Sin input: \"))\n",
    "print(\"Sin value:\", sin_1(num2))\n",
    "num3 = int(input(\"Cos input \"))\n",
    "print(\"Cos value:\", cos_1(num3))\n"
   ]
  },
  {
   "cell_type": "code",
   "execution_count": 33,
   "id": "6872e898",
   "metadata": {},
   "outputs": [
    {
     "name": "stdout",
     "output_type": "stream",
     "text": [
      "{'cat': 2, 'dog': 1}\n"
     ]
    }
   ],
   "source": [
    "from collections import Counter\n",
    "def word_frequency(sentence):\n",
    "    words = sentence.split()\n",
    "    return dict(Counter(words))\n",
    "s = \"cat dog cat\"\n",
    "print(word_frequency(s))\n"
   ]
  },
  {
   "cell_type": "code",
   "execution_count": null,
   "id": "ab6fa965",
   "metadata": {},
   "outputs": [
    {
     "name": "stdout",
     "output_type": "stream",
     "text": [
      "Weather: Cloudy, Temp: 6°C\n"
     ]
    }
   ],
   "source": [
    "import random\n",
    "def weather_simulator():\n",
    "    conditions = [\"Sunny\", \"Cloudy\", \"Rainy\"]\n",
    "    condition = random.choice(conditions)\n",
    "    temperature = random.randint(-5, 40)  \n",
    "    return f\"Weather: {condition}, Temp: {temperature}°C\"\n",
    "print(weather_simulator())"
   ]
  },
  {
   "cell_type": "code",
   "execution_count": 38,
   "id": "b01991f4",
   "metadata": {},
   "outputs": [
    {
     "name": "stdout",
     "output_type": "stream",
     "text": [
      "5\n",
      "4\n",
      "3\n",
      "2\n",
      "1\n",
      "Time's up\n"
     ]
    }
   ],
   "source": [
    "import time\n",
    "def timer(n):\n",
    "    while(n>0):\n",
    "        print(n)\n",
    "        time.sleep(1)\n",
    "        n=n-1\n",
    "    print(\"Time's up\")\n",
    "timer(5)\n",
    "        "
   ]
  },
  {
   "cell_type": "code",
   "execution_count": null,
   "id": "279bfb82",
   "metadata": {},
   "outputs": [],
   "source": []
  }
 ],
 "metadata": {
  "kernelspec": {
   "display_name": "myenv",
   "language": "python",
   "name": "python3"
  },
  "language_info": {
   "codemirror_mode": {
    "name": "ipython",
    "version": 3
   },
   "file_extension": ".py",
   "mimetype": "text/x-python",
   "name": "python",
   "nbconvert_exporter": "python",
   "pygments_lexer": "ipython3",
   "version": "3.11.13"
  }
 },
 "nbformat": 4,
 "nbformat_minor": 5
}
