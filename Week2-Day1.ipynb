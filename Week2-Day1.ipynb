{
 "cells": [
  {
   "cell_type": "code",
   "execution_count": null,
   "id": "4d7679ed",
   "metadata": {},
   "outputs": [
    {
     "name": "stdout",
     "output_type": "stream",
     "text": [
      "[2, 3, 5, 7, 11, 13, 17, 19]\n"
     ]
    }
   ],
   "source": [
    "#1\n",
    "def prime_numbers_upto(n):\n",
    "    primes = []\n",
    "    for num in range(2, n+1):\n",
    "        is_prime = True\n",
    "        for i in range(2, int(num**0.5) + 1):\n",
    "            if num % i == 0:\n",
    "                is_prime = False\n",
    "                break\n",
    "        if is_prime:\n",
    "            primes.append(num)\n",
    "    return primes\n",
    "print(prime_numbers_upto(20))\n"
   ]
  },
  {
   "cell_type": "code",
   "execution_count": null,
   "id": "7b1998d9",
   "metadata": {},
   "outputs": [
    {
     "name": "stdout",
     "output_type": "stream",
     "text": [
      "Palindrome? True\n"
     ]
    }
   ],
   "source": [
    "#2\n",
    "def is_palindrome(s):\n",
    "    s = s.replace(\" \", \"\").lower()\n",
    "    if len(s) <= 1:\n",
    "        return True\n",
    "    if s[0] != s[-1]:\n",
    "        return False\n",
    "    return is_palindrome(s[1:-1])\n",
    "\n",
    "word = input(\"Enter a word: \")\n",
    "print(\"Palindrome?\", is_palindrome(word))"
   ]
  },
  {
   "cell_type": "code",
   "execution_count": null,
   "id": "6c647fae",
   "metadata": {},
   "outputs": [
    {
     "name": "stdout",
     "output_type": "stream",
     "text": [
      "Anagram? True\n"
     ]
    }
   ],
   "source": [
    "#3\n",
    "def anagram(s1, s2):\n",
    "    if sorted(s1) == sorted(s2):\n",
    "        return True\n",
    "    else: \n",
    "        return False\n",
    "str1 = input(\"Enter 1st string: \")\n",
    "str2 = input(\"Enter 2nd string: \")\n",
    "print(\"IsAnagram?\", anagram(str1, str2))\n"
   ]
  },
  {
   "cell_type": "code",
   "execution_count": null,
   "id": "c114454c",
   "metadata": {},
   "outputs": [
    {
     "name": "stdout",
     "output_type": "stream",
     "text": [
      "Lowercase and Uppercase counts: (5, 0)\n"
     ]
    }
   ],
   "source": [
    "#4\n",
    "def count(s):\n",
    "    lcount = 0\n",
    "    ucount = 0\n",
    "    for ch in s:\n",
    "        if ch.islower():\n",
    "            lcount += 1\n",
    "        elif ch.isupper():\n",
    "            ucount += 1\n",
    "    return lcount, ucount   \n",
    "\n",
    "s = input(\"Enter a word: \")\n",
    "print(\"Lowercase and Uppercase count:\", count(s))\n"
   ]
  },
  {
   "cell_type": "code",
   "execution_count": null,
   "id": "25387714",
   "metadata": {},
   "outputs": [
    {
     "name": "stdout",
     "output_type": "stream",
     "text": [
      "Longest word: amazing\n"
     ]
    }
   ],
   "source": [
    "#5\n",
    "def longest_word(sen):\n",
    "    words = sen.split()\n",
    "    return max(words, key=len)\n",
    "\n",
    "s = input(\"Enter a sentence: \")\n",
    "print(\"Longest word:\", longest_word(s))\n"
   ]
  },
  {
   "cell_type": "code",
   "execution_count": null,
   "id": "e58f468e",
   "metadata": {},
   "outputs": [
    {
     "name": "stdout",
     "output_type": "stream",
     "text": [
      "Generate pass: ITbU:?\n"
     ]
    }
   ],
   "source": [
    "#6\n",
    "import random \n",
    "import string\n",
    "def random_password(length=6):\n",
    "    char=string.ascii_letters+string.digits+string.punctuation\n",
    "    return ''.join(random.choice(char) for _ in range(length))\n",
    "print(\"Generate pass:\",random_password(6))\n"
   ]
  },
  {
   "cell_type": "code",
   "execution_count": null,
   "id": "8fac63e2",
   "metadata": {},
   "outputs": [
    {
     "name": "stdout",
     "output_type": "stream",
     "text": [
      "Square root: 5.0\n",
      "Factorial: 120\n",
      "Sin value: 1.0\n",
      "Cos value: 0.5000000000000001\n"
     ]
    }
   ],
   "source": [
    "#7 \n",
    "import math\n",
    "def square_root(n):\n",
    "    if n == 0:\n",
    "        return 0\n",
    "    else:\n",
    "        return math.sqrt(n)\n",
    "\n",
    "def fact(n):\n",
    "    return math.factorial(n)\n",
    "\n",
    "def sin_1(n):\n",
    "    return math.sin(math.radians(n))  \n",
    "\n",
    "def cos_1(n):\n",
    "    return math.cos(math.radians(n)) \n",
    "\n",
    "num = int(input(\"Enter number for square root: \"))\n",
    "print(\"Square root:\", square_root(num))\n",
    "\n",
    "num1 = int(input(\"Enter number for factorial: \"))\n",
    "print(\"Factorial:\", fact(num1))\n",
    "\n",
    "num2 = int(input(\"Sin input: \"))\n",
    "print(\"Sin value:\", sin_1(num2))\n",
    "num3 = int(input(\"Cos input \"))\n",
    "print(\"Cos value:\", cos_1(num3))\n"
   ]
  },
  {
   "cell_type": "code",
   "execution_count": null,
   "id": "6872e898",
   "metadata": {},
   "outputs": [
    {
     "name": "stdout",
     "output_type": "stream",
     "text": [
      "{'cat': 2, 'dog': 1}\n"
     ]
    }
   ],
   "source": [
    "#8\n",
    "from collections import Counter\n",
    "def word_frequency(sentence):\n",
    "    words = sentence.split()\n",
    "    return dict(Counter(words))\n",
    "s = \"cat dog cat\"\n",
    "print(word_frequency(s))\n"
   ]
  },
  {
   "cell_type": "code",
   "execution_count": null,
   "id": "ab6fa965",
   "metadata": {},
   "outputs": [
    {
     "name": "stdout",
     "output_type": "stream",
     "text": [
      "Weather: Cloudy, Temp: 6°C\n"
     ]
    }
   ],
   "source": [
    "#9\n",
    "import random\n",
    "def weather_simulator():\n",
    "    conditions = [\"Sunny\", \"Cloudy\", \"Rainy\"]\n",
    "    condition = random.choice(conditions)\n",
    "    temperature = random.randint(-5, 40)  \n",
    "    return f\"Weather: {condition}, Temp: {temperature}°C\"\n",
    "print(weather_simulator())"
   ]
  },
  {
   "cell_type": "code",
   "execution_count": null,
   "id": "b01991f4",
   "metadata": {},
   "outputs": [
    {
     "name": "stdout",
     "output_type": "stream",
     "text": [
      "5\n",
      "4\n",
      "3\n",
      "2\n",
      "1\n",
      "Time's up\n"
     ]
    }
   ],
   "source": [
    "#10\n",
    "import time\n",
    "def timer(n):\n",
    "    while(n>0):\n",
    "        print(n)\n",
    "        time.sleep(1)\n",
    "        n=n-1\n",
    "    print(\"Time's up\")\n",
    "timer(5)\n",
    "        "
   ]
  },
  {
   "cell_type": "code",
   "execution_count": 7,
   "id": "279bfb82",
   "metadata": {},
   "outputs": [
    {
     "name": "stdout",
     "output_type": "stream",
     "text": [
      "Total Balance: 151\n",
      "Total Balance: 121\n"
     ]
    }
   ],
   "source": [
    "#11\n",
    "class BankAccount:\n",
    "    def __init__(self,balance,owner):\n",
    "        self.balance=balance\n",
    "        self.owner=owner\n",
    "    def deposit(self,amount):\n",
    "        self.balance+=amount\n",
    "    def withdraw(self,amount):\n",
    "        if amount > self.balance:\n",
    "            print(\"Insufficient funds!\")\n",
    "        else:\n",
    "            self.balance-=amount\n",
    "    def get_balance(self):\n",
    "        print(\"Total Balance:\",self.balance)\n",
    "s1=BankAccount(101,\"Harsh\")\n",
    "s1.deposit(50)\n",
    "s1.get_balance()\n",
    "s1.withdraw(30)\n",
    "s1.get_balance()"
   ]
  },
  {
   "cell_type": "code",
   "execution_count": 8,
   "id": "5674c67a",
   "metadata": {},
   "outputs": [
    {
     "name": "stdout",
     "output_type": "stream",
     "text": [
      "Average: 85.0\n",
      "Updated marks: [90, 80, 85, 95]\n",
      "Highest: 95\n",
      "Lowest: 80\n"
     ]
    }
   ],
   "source": [
    "#12\n",
    "class Student:\n",
    "    def __init__(self,name,marks):\n",
    "        self.name=name\n",
    "        self.marks=marks\n",
    "    def get_average(self):\n",
    "        avg=sum(self.marks)/len(self.marks)\n",
    "        print(\"Average:\",avg)\n",
    "    def add_marks(self,mark):\n",
    "        self.marks.append(mark)\n",
    "        print(\"Updated marks:\",self.marks)\n",
    "    def get_highest(self):\n",
    "        maxi=max(self.marks)\n",
    "        print(\"Highest:\",maxi)\n",
    "    def get_lowest(self):\n",
    "        mini=min(self.marks)\n",
    "        print(\"Lowest:\",mini)\n",
    "s1=Student(\"Tom\", [90, 80, 85])\n",
    "s1.get_average()\n",
    "s1.add_marks(95)\n",
    "s1.get_highest()\n",
    "s1.get_lowest()"
   ]
  },
  {
   "cell_type": "code",
   "execution_count": 12,
   "id": "dc998738",
   "metadata": {},
   "outputs": [
    {
     "name": "stdout",
     "output_type": "stream",
     "text": [
      "Bonus: 10000.0\n"
     ]
    }
   ],
   "source": [
    "#13\n",
    "class Employee:\n",
    "    def __init__(self,name,salary,role):\n",
    "        self.name=name\n",
    "        self.salary=salary\n",
    "        self.role=role\n",
    "    def bonus(self):\n",
    "        if self.role==\"Manager\":\n",
    "            bonus1=0.2*self.salary\n",
    "            print(\"Bonus:\",bonus1)\n",
    "        elif self.role==\"Developer\":\n",
    "            bonus1=0.1*self.salary\n",
    "            print(\"Bonus:\",bonus1)\n",
    "        elif self.role==\"Intern\":\n",
    "            bonus1=0.05*self.salary\n",
    "            print(\"Bonus:\",bonus1)\n",
    "        else:\n",
    "            bonus1=0\n",
    "m=Employee(\"Alice\",50000,\"Manager\")\n",
    "m.bonus()"
   ]
  },
  {
   "cell_type": "code",
   "execution_count": 19,
   "id": "86158e6b",
   "metadata": {},
   "outputs": [
    {
     "name": "stdout",
     "output_type": "stream",
     "text": [
      "Area of Circle: 153.94\n",
      "Area of Rectangle: 20\n"
     ]
    }
   ],
   "source": [
    "#14\n",
    "import math\n",
    "class Shape:\n",
    "    def __init__(self,name):\n",
    "        self.name=name\n",
    "    def area(self):\n",
    "        return 0\n",
    "class Circle(Shape):\n",
    "    def __init__(self, radius):\n",
    "        super().__init__(\"Circle\")\n",
    "        self.radius=radius\n",
    "    def area(self):\n",
    "        areac=math.pi*self.radius**2\n",
    "        print(\"Area of Circle:\",round(areac,2))\n",
    "class Rectangle(Shape):\n",
    "    def __init__(self, width,length):\n",
    "        super().__init__(\"Rectangle\")\n",
    "        self.width=width\n",
    "        self.length=length\n",
    "    def area(self):\n",
    "        arear=self.width*self.length\n",
    "        print(\"Area of Rectangle:\",arear)\n",
    "    \n",
    "c = Circle(7)\n",
    "c.area()\n",
    "r = Rectangle(4, 5)\n",
    "r.area()\n",
    "\n",
    "\n",
    "    "
   ]
  },
  {
   "cell_type": "code",
   "execution_count": null,
   "id": "4b4c1499",
   "metadata": {},
   "outputs": [
    {
     "name": "stdout",
     "output_type": "stream",
     "text": [
      "Shirt added with price 500\n",
      "Shoes added with price 1500\n",
      "Items: {'Shirt': 500, 'Shoes': 1500}\n",
      "Total = 2000\n"
     ]
    }
   ],
   "source": [
    "#15\n",
    "class Order:\n",
    "    def __init__(self):\n",
    "        self.items = {}\n",
    "    def add(self, item, price):\n",
    "        self.items[item] = price\n",
    "        print(f\"{item} added with price {price}\")\n",
    "    def remove(self, item):\n",
    "        if item in self.items:\n",
    "            del self.items[item]\n",
    "            print(f\"{item} removed from order\")\n",
    "        else:\n",
    "            print(f\"{item} is not in the order\")\n",
    "    def calculate_total(self):\n",
    "        total = sum(self.items.values())\n",
    "        return total\n",
    "    def show_items(self):\n",
    "            print(\"Items:\",self.items)\n",
    "\n",
    "\n",
    "order = Order()\n",
    "order.add(\"Shirt\", 500)\n",
    "order.add(\"Shoes\", 1500)\n",
    "order.show_items()\n",
    "print(\"Total =\", order.calculate_total())\n"
   ]
  },
  {
   "cell_type": "code",
   "execution_count": 10,
   "id": "29371463",
   "metadata": {},
   "outputs": [
    {
     "name": "stdout",
     "output_type": "stream",
     "text": [
      "0 1 1 2 3 5 8 "
     ]
    }
   ],
   "source": [
    "#16\n",
    "def fibonacci(n):\n",
    "    if n <= 0:\n",
    "        return \"Invalid input\"\n",
    "    elif n == 1:\n",
    "        return 0\n",
    "    elif n == 2:\n",
    "        return 1\n",
    "    else:\n",
    "        return fibonacci(n-1) + fibonacci(n-2)\n",
    "\n",
    "num = int(input(\"Enter number of terms: \"))\n",
    "for i in range(1, num+1):\n",
    "    print(fibonacci(i), end=\" \")"
   ]
  },
  {
   "cell_type": "code",
   "execution_count": 11,
   "id": "3eb6acef",
   "metadata": {},
   "outputs": [
    {
     "ename": "ValueError",
     "evalue": "invalid literal for int() with base 10: ''",
     "output_type": "error",
     "traceback": [
      "\u001b[31m---------------------------------------------------------------------------\u001b[39m",
      "\u001b[31mValueError\u001b[39m                                Traceback (most recent call last)",
      "\u001b[36mCell\u001b[39m\u001b[36m \u001b[39m\u001b[32mIn[11]\u001b[39m\u001b[32m, line 7\u001b[39m\n\u001b[32m      5\u001b[39m     \u001b[38;5;28;01melse\u001b[39;00m:\n\u001b[32m      6\u001b[39m         \u001b[38;5;28;01mreturn\u001b[39;00m n*factorial(n-\u001b[32m1\u001b[39m)\n\u001b[32m----> \u001b[39m\u001b[32m7\u001b[39m num=\u001b[38;5;28;43mint\u001b[39;49m\u001b[43m(\u001b[49m\u001b[38;5;28;43minput\u001b[39;49m\u001b[43m(\u001b[49m\u001b[33;43m\"\u001b[39;49m\u001b[33;43mEnter a number:\u001b[39;49m\u001b[33;43m\"\u001b[39;49m\u001b[43m)\u001b[49m\u001b[43m)\u001b[49m\n\u001b[32m      8\u001b[39m \u001b[38;5;28mprint\u001b[39m(\u001b[33m\"\u001b[39m\u001b[33mFactorial of\u001b[39m\u001b[33m\"\u001b[39m, num,\u001b[33m\"\u001b[39m\u001b[33m is\u001b[39m\u001b[33m\"\u001b[39m,factorial(num))\n",
      "\u001b[31mValueError\u001b[39m: invalid literal for int() with base 10: ''"
     ]
    }
   ],
   "source": [
    "#17\n",
    "def factorial(n):\n",
    "    if n==0 or n==1:\n",
    "        return 1\n",
    "    else:\n",
    "        return n*factorial(n-1)\n",
    "num=int(input(\"Enter a number:\"))\n",
    "print(\"Factorial of\", num,\" is\",factorial(num))"
   ]
  },
  {
   "cell_type": "code",
   "execution_count": null,
   "id": "a3975a52",
   "metadata": {},
   "outputs": [
    {
     "name": "stdout",
     "output_type": "stream",
     "text": [
      "{'apple': 2, 'banana': 2, 'orange': 1}\n"
     ]
    }
   ],
   "source": [
    "#18\n",
    "def unique(sen):\n",
    "    words=sen.split()\n",
    "    freq={}\n",
    "    for word in words:\n",
    "        freq[word]=freq.get(word,0)+1\n",
    "    return freq\n",
    "sen=\"apple banana apple orange banana\"\n",
    "print(unique(sen))\n"
   ]
  },
  {
   "cell_type": "code",
   "execution_count": null,
   "id": "18ba7ec6",
   "metadata": {},
   "outputs": [
    {
     "name": "stdout",
     "output_type": "stream",
     "text": [
      "Grade: A\n"
     ]
    }
   ],
   "source": [
    "#19\n",
    "def grade_calculator(marks):\n",
    "    avg = sum(marks) / len(marks)   \n",
    "    if avg >= 75:\n",
    "        return \"Grade: A\"\n",
    "    elif avg >= 60:\n",
    "        return \"Grade: B\"\n",
    "    elif avg >= 40:\n",
    "        return \"Grade: C\"\n",
    "    else:\n",
    "        return \"Grade: Fail\"\n",
    "    \n",
    "marks = list(map(int, input().split()))\n",
    "print(grade_calculator(marks))\n"
   ]
  },
  {
   "cell_type": "code",
   "execution_count": null,
   "id": "1756a6e2",
   "metadata": {},
   "outputs": [
    {
     "name": "stdout",
     "output_type": "stream",
     "text": [
      "10\n"
     ]
    }
   ],
   "source": [
    "#20\n",
    "def largest(num):\n",
    "    max=float(\"-inf\")\n",
    "    secondmax=float(\"-inf\")\n",
    "    for i in num:\n",
    "        if i>max:\n",
    "            secondmax=max\n",
    "            max=i\n",
    "        elif i>secondmax and i!=max:\n",
    "            secondmax=i\n",
    "    print(secondmax)\n",
    "nums= list(map(int, input().split()))\n",
    "largest(nums)\n"
   ]
  },
  {
   "cell_type": "code",
   "execution_count": null,
   "id": "c96cafd4",
   "metadata": {},
   "outputs": [
    {
     "name": "stdout",
     "output_type": "stream",
     "text": [
      "Text files: 0\n",
      "Python files: 0\n"
     ]
    }
   ],
   "source": [
    "#21\n",
    "import os\n",
    "def count():\n",
    "    txt_files=0\n",
    "    py_files=0\n",
    "    for file in os.listdir():\n",
    "        if file.endswith(\".txt\"):\n",
    "            txt_files+=1\n",
    "        elif file.endswith(\".py\"):\n",
    "            py_files+=1\n",
    "    print(\"Text files:\",txt_files)\n",
    "    print(\"Python files:\",py_files)\n",
    "count()\n"
   ]
  },
  {
   "cell_type": "code",
   "execution_count": null,
   "id": "cf2fad81",
   "metadata": {},
   "outputs": [
    {
     "name": "stdout",
     "output_type": "stream",
     "text": [
      "Mean = 87.86\n",
      "Median = 90\n",
      "Variance = 73.81\n"
     ]
    }
   ],
   "source": [
    "#22\n",
    "import statistics\n",
    "def Score(scores):\n",
    "    mean=statistics.mean(scores)\n",
    "    print(\"Mean=\",round(mean,2))\n",
    "    median=statistics.median(scores)\n",
    "    print(\"Median=\",median)\n",
    "    Variance=statistics.variance(scores)\n",
    "    print(\"Variance=\",round(Variance,2))\n",
    "scores=list(map(int,input().split()))\n",
    "Score(scores)\n"
   ]
  },
  {
   "cell_type": "code",
   "execution_count": null,
   "id": "bfee255d",
   "metadata": {},
   "outputs": [
    {
     "name": "stdout",
     "output_type": "stream",
     "text": [
      "Roots are: 2.0 and 1.0\n"
     ]
    }
   ],
   "source": [
    "#23\n",
    "import math\n",
    "def quadra(a, b, c):\n",
    "    discriminant = b**2 - 4*a*c\n",
    "    if discriminant < 0:\n",
    "        print(\"No real roots\")\n",
    "    elif discriminant == 0:\n",
    "        root = -b / (2*a)\n",
    "        print(\"Root is:\", root)\n",
    "    else:\n",
    "        root1 = (-b + math.sqrt(discriminant)) / (2*a)\n",
    "        root2 = (-b - math.sqrt(discriminant)) / (2*a)\n",
    "        print(\"Roots are:\", root1, \"and\", root2)\n",
    "\n",
    "a, b, c = 1, -3, 2\n",
    "quadra(a, b, c)\n",
    "\n"
   ]
  },
  {
   "cell_type": "code",
   "execution_count": null,
   "id": "952bd51c",
   "metadata": {},
   "outputs": [
    {
     "name": "stdout",
     "output_type": "stream",
     "text": [
      "You chose Rock Computer chose Paper\n",
      "Computer Wins!\n"
     ]
    }
   ],
   "source": [
    "#24 \n",
    "import random\n",
    "\n",
    "def game():\n",
    "    options = [\"Rock\", \"Paper\", \"Scissors\"]\n",
    "    user = input(\"\").capitalize()\n",
    "    computer = random.choice(options)\n",
    "    print(\"You chose\",user, \"Computer chose\" ,computer)\n",
    "    \n",
    "    if user == computer:\n",
    "        print(\"It's a tie!\")\n",
    "    elif (user == \"Rock\" and computer == \"Scissors\") or \\\n",
    "         (user == \"Paper\" and computer == \"Rock\") or \\\n",
    "         (user == \"Scissors\" and computer == \"Paper\"):\n",
    "        print(\"You Win!\")\n",
    "    else:\n",
    "        print(\"Computer Wins!\")\n",
    "game()\n"
   ]
  },
  {
   "cell_type": "code",
   "execution_count": null,
   "id": "b051e700",
   "metadata": {},
   "outputs": [
    {
     "name": "stdout",
     "output_type": "stream",
     "text": [
      "Sum: 30\n"
     ]
    }
   ],
   "source": [
    "#25\n",
    "import sys\n",
    "def Sum():\n",
    "    sys.argv = [\"add.py\", \"5\", \"10\", \"15\"]\n",
    "    num1 = int(sys.argv[1])\n",
    "    num2 = int(sys.argv[2])\n",
    "    num3 = int(sys.argv[3])\n",
    "    total=num1+num2+num3\n",
    "    print(\"Sum:\",total)\n",
    "Sum()"
   ]
  },
  {
   "cell_type": "code",
   "execution_count": null,
   "id": "4167ac4e",
   "metadata": {},
   "outputs": [
    {
     "name": "stdout",
     "output_type": "stream",
     "text": [
      "You borrowed Python 101\n",
      "You returned Python 101\n",
      "Available books: {'Python 101': 3, 'Data Science': 2}\n"
     ]
    }
   ],
   "source": [
    "#26\n",
    "class Library:\n",
    "    def __init__(self, books=None):\n",
    "        if books is None:\n",
    "            self.books = {}\n",
    "        else:\n",
    "            self.books = books\n",
    "\n",
    "    def borrow(self, title, copies=1):\n",
    "        if title in self.books and self.books[title] >= copies:\n",
    "            self.books[title] -= copies\n",
    "            print(\"You borrowed\",title)\n",
    "        else:\n",
    "            return \"Title is not available in the library\"\n",
    "\n",
    "    def return_book(self, title, copies=1):\n",
    "        if title in self.books:\n",
    "            self.books[title] += copies\n",
    "        else:\n",
    "            self.books[title] = copies  \n",
    "        print(\"You returned\" ,title)\n",
    "\n",
    "    def show_books(self):\n",
    "        print(\"Available books:\", self.books)\n",
    "\n",
    "\n",
    "lib = Library({\"Python 101\": 3, \"Data Science\": 2})\n",
    "\n",
    "lib.borrow(\"Python 101\")\n",
    "lib.return_book(\"Python 101\") \n",
    "lib.show_books()\n"
   ]
  },
  {
   "cell_type": "code",
   "execution_count": null,
   "id": "70dffd8f",
   "metadata": {},
   "outputs": [
    {
     "name": "stdout",
     "output_type": "stream",
     "text": [
      "access granted\n",
      "Deposited: 200\n",
      "Withdrawn: 100\n",
      "Total Balance: 600\n"
     ]
    }
   ],
   "source": [
    "#27\n",
    "class ATM:\n",
    "    def __init__(self,balance, pin):\n",
    "        self.balance=balance\n",
    "        self.pin=pin\n",
    "        self.is_authenticated=False\n",
    "    def login(self,pin):\n",
    "        if self.pin==pin:\n",
    "            self.is_authenticated=True\n",
    "            print(\"access granted\")\n",
    "        else:\n",
    "            print(\"Incorrect PIN\")\n",
    "    def deposit(self, amount):\n",
    "        if self.is_authenticated:\n",
    "            self.balance += amount\n",
    "            print(\"Deposited:\", amount)\n",
    "        else:\n",
    "            print(\"Please login first\")\n",
    "    def withdraw(self, amount):\n",
    "        if self.is_authenticated:\n",
    "            if amount > self.balance:\n",
    "                print(\"Insufficient funds!\")\n",
    "            else:\n",
    "                self.balance -= amount\n",
    "                print(\"Withdrawn:\", amount)\n",
    "        else:\n",
    "            print(\"Please login first\")\n",
    "    def check_balance(self):\n",
    "        if self.is_authenticated:\n",
    "            print(\"Total Balance:\", self.balance)\n",
    "        else:\n",
    "            print(\"Please login first\")\n",
    "\n",
    "atm = ATM(500, 1234)\n",
    "atm.login(1234)\n",
    "atm.deposit(200)\n",
    "atm.withdraw(100)\n",
    "atm.check_balance()"
   ]
  },
  {
   "cell_type": "code",
   "execution_count": null,
   "id": "edc7f531",
   "metadata": {},
   "outputs": [
    {
     "name": "stdout",
     "output_type": "stream",
     "text": [
      "Dr. Smith is teaching Python\n",
      "Alice enrolled in Python\n",
      "Dr. Smith  assigned: Project 1\n",
      "Alice submitted: Project 1\n"
     ]
    }
   ],
   "source": [
    "#28\n",
    "class Professor:\n",
    "    def __init__(self,name,subject):\n",
    "        self.name=name\n",
    "        self.subject=subject\n",
    "    def teach(self,course):\n",
    "        print(self.name,\"is teaching\",course)\n",
    "    def give_assignment(self,task):\n",
    "        print(self.name,\" assigned:\",task)\n",
    "class Student:\n",
    "    def __init__(self,name):\n",
    "        self.name=name\n",
    "        self.courses=[]\n",
    "        self.assignments=[]\n",
    "    def enroll(self,course):\n",
    "        self.courses.append(course)\n",
    "        print(self.name,\"enrolled in\",course)\n",
    "    def submit_assignment(self,task):\n",
    "        self.assignments.append(task)\n",
    "        print(self.name,\"submitted:\",task)\n",
    "prof = Professor(\"Dr. Smith\", \"Computer Science\")\n",
    "stud = Student(\"Alice\")\n",
    "prof.teach(\"Python\")\n",
    "stud.enroll(\"Python\")\n",
    "prof.give_assignment(\"Project 1\")\n",
    "stud.submit_assignment(\"Project 1\")\n",
    "\n",
    "\n"
   ]
  },
  {
   "cell_type": "code",
   "execution_count": null,
   "id": "59170c49",
   "metadata": {},
   "outputs": [
    {
     "name": "stdout",
     "output_type": "stream",
     "text": [
      "Booked 2 tickets for Avatar\n",
      "Cancelled 1 ticket for Avatar\n",
      "Movies: {'Avatar': 9, 'Batman': 5}\n"
     ]
    }
   ],
   "source": [
    "#29\n",
    "class Cinema:\n",
    "    def __init__(self, movies=None):\n",
    "        if movies is None:\n",
    "            self.movies = {}\n",
    "        else:\n",
    "            self.movies= movies\n",
    "    def book(self,movie,seats):\n",
    "        if movie in self.movies and self.movies[movie] >= seats:\n",
    "            self.movies[movie] -= seats\n",
    "            print(\"Booked\", seats ,\"tickets for\",movie )\n",
    "        else:\n",
    "            print(\"Movie is not available in the cinema\")\n",
    "    def cancel(self,movie,seats):\n",
    "        if movie in self.movies:\n",
    "            self.movies[movie] += seats\n",
    "        else:\n",
    "            self.movies[movie] = seats\n",
    "        print(\"Cancelled\" ,seats ,\"ticket for\",movie )\n",
    "    def show_movies(self):\n",
    "        print(\"Movies:\", self.movies)\n",
    "cinema = Cinema({\"Avatar\": 10, \"Batman\": 5})\n",
    "\n",
    "cinema.book(\"Avatar\", 2)\n",
    "cinema.cancel(\"Avatar\", 1)\n",
    "cinema.show_movies()\n",
    "         "
   ]
  },
  {
   "cell_type": "code",
   "execution_count": null,
   "id": "714ee39b",
   "metadata": {},
   "outputs": [
    {
     "name": "stdout",
     "output_type": "stream",
     "text": [
      "Burger added\n",
      "Pizza added\n",
      "Pizza price updated to 250\n",
      "Burger removed\n",
      "Menu: {'Pizza': 250}\n"
     ]
    }
   ],
   "source": [
    "#30\n",
    "class Menu:\n",
    "    def __init__(self, items=None):\n",
    "        if items is None:\n",
    "            self.items = {}\n",
    "        else:\n",
    "            self.items= items\n",
    "    def add_item(self,name,price):\n",
    "            self.items[name] = price\n",
    "            print(name ,\"added\" )\n",
    "    def remove_item(self,name):\n",
    "        if  name in self.items:\n",
    "            del self.items[name]\n",
    "        else:\n",
    "            print(\"Not in menu\")\n",
    "        print(name,\"removed\")\n",
    "    def update_price(self,name,new_price):\n",
    "        if  name in self.items:\n",
    "            self.items[name] = new_price\n",
    "        else:\n",
    "            self.items[name] = price\n",
    "        print(name,\"price updated to\",new_price)\n",
    "    def show_menu(self):\n",
    "         print(\"Menu:\",self.items)\n",
    "menu = Menu()\n",
    "menu.add_item(\"Burger\", 100)\n",
    "menu.add_item(\"Pizza\", 200)            \n",
    "menu.update_price(\"Pizza\", 250)\n",
    "menu.remove_item(\"Burger\")\n",
    "menu.show_menu()\n"
   ]
  }
 ],
 "metadata": {
  "kernelspec": {
   "display_name": "myenv",
   "language": "python",
   "name": "python3"
  },
  "language_info": {
   "codemirror_mode": {
    "name": "ipython",
    "version": 3
   },
   "file_extension": ".py",
   "mimetype": "text/x-python",
   "name": "python",
   "nbconvert_exporter": "python",
   "pygments_lexer": "ipython3",
   "version": "3.11.13"
  }
 },
 "nbformat": 4,
 "nbformat_minor": 5
}
