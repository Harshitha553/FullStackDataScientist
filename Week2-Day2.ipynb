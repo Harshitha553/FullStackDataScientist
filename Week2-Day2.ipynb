{
 "cells": [
  {
   "cell_type": "code",
   "execution_count": 28,
   "id": "80b4fa8d",
   "metadata": {},
   "outputs": [
    {
     "name": "stdout",
     "output_type": "stream",
     "text": [
      " Password is weak\n"
     ]
    }
   ],
   "source": [
    "#2\n",
    "import string\n",
    "password = input(\"Enter a password: \")\n",
    "has_upper = any(ch in string.ascii_uppercase for ch in password)\n",
    "has_lower = any(ch in string.ascii_lowercase for ch in password)\n",
    "has_digit = any(ch in string.digits for ch in password)\n",
    "has_special = any(ch in string.punctuation for ch in password)\n",
    "is_long = len(password) >= 8\n",
    "if all([has_upper, has_lower, has_digit, has_special, is_long]):\n",
    "    print(\" Password is strong\")\n",
    "else:\n",
    "    print(\" Password is weak\")\n"
   ]
  },
  {
   "cell_type": "code",
   "execution_count": null,
   "id": "e9ee59d2",
   "metadata": {},
   "outputs": [
    {
     "name": "stdout",
     "output_type": "stream",
     "text": [
      "Sum= 15\n",
      "Sub= 5\n",
      "Mul= 50\n",
      "div 2.0\n"
     ]
    },
    {
     "ename": "",
     "evalue": "",
     "output_type": "error",
     "traceback": [
      "\u001b[1;31mnotebook controller is DISPOSED. \n",
      "\u001b[1;31mView Jupyter <a href='command:jupyter.viewOutput'>log</a> for further details."
     ]
    }
   ],
   "source": [
    "#3\n",
    "a=int(input(\"Enter a\"))\n",
    "b=int(input(\"Enter b\"))\n",
    "print(\"Sum=\",a+b)\n",
    "print(\"Sub=\",a-b)\n",
    "print(\"Mul=\",a*b)\n",
    "print(\"div\",a/b)"
   ]
  },
  {
   "cell_type": "code",
   "execution_count": null,
   "id": "41f6ef1f",
   "metadata": {},
   "outputs": [
    {
     "name": "stdout",
     "output_type": "stream",
     "text": [
      "Duplicates= ['Ram']\n"
     ]
    },
    {
     "ename": "",
     "evalue": "",
     "output_type": "error",
     "traceback": [
      "\u001b[1;31mnotebook controller is DISPOSED. \n",
      "\u001b[1;31mView Jupyter <a href='command:jupyter.viewOutput'>log</a> for further details."
     ]
    }
   ],
   "source": [
    "#4\n",
    "stu=input(\"Enter students\").split()\n",
    "dup=[name for name in set(stu) if stu.count(name)>1]\n",
    "if dup:\n",
    "    print(\"Duplicates=\",dup)\n",
    "else:\n",
    "    print(\"No dup\")"
   ]
  },
  {
   "cell_type": "code",
   "execution_count": null,
   "id": "1f560f36",
   "metadata": {},
   "outputs": [
    {
     "name": "stdout",
     "output_type": "stream",
     "text": [
      "Fahrenheit: 212.0\n"
     ]
    },
    {
     "ename": "",
     "evalue": "",
     "output_type": "error",
     "traceback": [
      "\u001b[1;31mnotebook controller is DISPOSED. \n",
      "\u001b[1;31mView Jupyter <a href='command:jupyter.viewOutput'>log</a> for further details."
     ]
    }
   ],
   "source": [
    "#5\n",
    "celsius=float(input(\"Enter temp in celsius:\"))\n",
    "fah=(celsius*9/5)+32\n",
    "print(\"Fahrenheit:\",fah)"
   ]
  },
  {
   "cell_type": "code",
   "execution_count": null,
   "id": "8df6a504",
   "metadata": {},
   "outputs": [
    {
     "name": "stdout",
     "output_type": "stream",
     "text": [
      "Largest: 90\n"
     ]
    },
    {
     "ename": "",
     "evalue": "",
     "output_type": "error",
     "traceback": [
      "\u001b[1;31mnotebook controller is DISPOSED. \n",
      "\u001b[1;31mView Jupyter <a href='command:jupyter.viewOutput'>log</a> for further details."
     ]
    }
   ],
   "source": [
    "#6\n",
    "integers=list(map(int,input(\"Enter numbers\").split()))\n",
    "maxi=max(integers)\n",
    "print(\"Largest:\",maxi)"
   ]
  },
  {
   "cell_type": "code",
   "execution_count": null,
   "id": "2089515e",
   "metadata": {},
   "outputs": [
    {
     "name": "stdout",
     "output_type": "stream",
     "text": [
      "Simple Interest: 24.445\n"
     ]
    },
    {
     "ename": "",
     "evalue": "",
     "output_type": "error",
     "traceback": [
      "\u001b[1;31mnotebook controller is DISPOSED. \n",
      "\u001b[1;31mView Jupyter <a href='command:jupyter.viewOutput'>log</a> for further details."
     ]
    }
   ],
   "source": [
    "#7\n",
    "princi=float(input(\"Enter principle\"))\n",
    "time=int(input(\"Enter time\"))\n",
    "rate=int(input(\"Enter rate\"))\n",
    "si=(princi*time*rate)/100\n",
    "print(\"Simple Interest:\",round(si,3))"
   ]
  },
  {
   "cell_type": "code",
   "execution_count": null,
   "id": "8f00be96",
   "metadata": {},
   "outputs": [
    {
     "name": "stdout",
     "output_type": "stream",
     "text": [
      "Not a defaulter\n"
     ]
    },
    {
     "ename": "",
     "evalue": "",
     "output_type": "error",
     "traceback": [
      "\u001b[1;31mnotebook controller is DISPOSED. \n",
      "\u001b[1;31mView Jupyter <a href='command:jupyter.viewOutput'>log</a> for further details."
     ]
    }
   ],
   "source": [
    "#8\n",
    "class student:\n",
    "    def __init__(self,records):\n",
    "        self.records=records\n",
    "    def display(self):\n",
    "        if attendance<75:\n",
    "            print(\"Defaulter\")\n",
    "        else:\n",
    "            print(\"Not a defaulter\")\n",
    "n = int(input(\"Enter number of students: \"))\n",
    "student_data = {}\n",
    "\n",
    "for i in range(n):\n",
    "    name = input(\"Enter name of student {i+1}: \")\n",
    "    attendance = int(input(\"Enter attendance : \"))\n",
    "    student_data[name] = attendance\n",
    "\n",
    "s=student(student_data)\n",
    "s.display()"
   ]
  },
  {
   "cell_type": "code",
   "execution_count": null,
   "id": "0621c83a",
   "metadata": {},
   "outputs": [
    {
     "data": {
      "text/plain": [
       "10"
      ]
     },
     "execution_count": 1,
     "metadata": {},
     "output_type": "execute_result"
    },
    {
     "ename": "",
     "evalue": "",
     "output_type": "error",
     "traceback": [
      "\u001b[1;31mnotebook controller is DISPOSED. \n",
      "\u001b[1;31mView Jupyter <a href='command:jupyter.viewOutput'>log</a> for further details."
     ]
    }
   ],
   "source": [
    "#9\n",
    "def sum_num(n):\n",
    "    if n==0:\n",
    "        return 0\n",
    "    else:\n",
    "        return n%10 +sum_num(n//10)\n",
    "num=int(input(\"Enter number\"))\n",
    "sum_num(num)"
   ]
  },
  {
   "cell_type": "code",
   "execution_count": null,
   "id": "f71518b1",
   "metadata": {},
   "outputs": [
    {
     "name": "stdout",
     "output_type": "stream",
     "text": [
      "[2, 3, 5, 7, 11, 13, 17, 19]\n"
     ]
    },
    {
     "ename": "",
     "evalue": "",
     "output_type": "error",
     "traceback": [
      "\u001b[1;31mnotebook controller is DISPOSED. \n",
      "\u001b[1;31mView Jupyter <a href='command:jupyter.viewOutput'>log</a> for further details."
     ]
    }
   ],
   "source": [
    "#10\n",
    "def prime_numbers_upto(n):\n",
    "    primes = []\n",
    "    for num in range(2, n+1):\n",
    "        is_prime = True\n",
    "        for i in range(2, int(num**0.5) + 1):\n",
    "            if num % i == 0:\n",
    "                is_prime = False\n",
    "                break\n",
    "        if is_prime:\n",
    "            primes.append(num)\n",
    "    return primes\n",
    "print(prime_numbers_upto(20))\n"
   ]
  },
  {
   "cell_type": "code",
   "execution_count": null,
   "id": "67ef520b",
   "metadata": {},
   "outputs": [
    {
     "ename": "ValueError",
     "evalue": "max() arg is an empty sequence",
     "output_type": "error",
     "traceback": [
      "\u001b[31m---------------------------------------------------------------------------\u001b[39m",
      "\u001b[31mValueError\u001b[39m                                Traceback (most recent call last)",
      "\u001b[36mCell\u001b[39m\u001b[36m \u001b[39m\u001b[32mIn[3]\u001b[39m\u001b[32m, line 3\u001b[39m\n\u001b[32m      1\u001b[39m \u001b[38;5;66;03m#11\u001b[39;00m\n\u001b[32m      2\u001b[39m list1=\u001b[38;5;28mlist\u001b[39m(\u001b[38;5;28mmap\u001b[39m(\u001b[38;5;28mint\u001b[39m,\u001b[38;5;28minput\u001b[39m(\u001b[33m\"\u001b[39m\u001b[33mEnter numbers\u001b[39m\u001b[33m\"\u001b[39m).split()))\n\u001b[32m----> \u001b[39m\u001b[32m3\u001b[39m maxi=\u001b[38;5;28;43mmax\u001b[39;49m\u001b[43m(\u001b[49m\u001b[43mlist1\u001b[49m\u001b[43m)\u001b[49m\n\u001b[32m      4\u001b[39m mini=\u001b[38;5;28mmin\u001b[39m(list1)\n\u001b[32m      5\u001b[39m \u001b[38;5;28mprint\u001b[39m(\u001b[33m\"\u001b[39m\u001b[33mLargest:\u001b[39m\u001b[33m\"\u001b[39m,maxi)\n",
      "\u001b[31mValueError\u001b[39m: max() arg is an empty sequence"
     ]
    },
    {
     "ename": "",
     "evalue": "",
     "output_type": "error",
     "traceback": [
      "\u001b[1;31mnotebook controller is DISPOSED. \n",
      "\u001b[1;31mView Jupyter <a href='command:jupyter.viewOutput'>log</a> for further details."
     ]
    }
   ],
   "source": [
    "#11\n",
    "list1=list(map(int,input(\"Enter numbers\").split()))\n",
    "maxi=max(list1)\n",
    "mini=min(list1)\n",
    "print(\"Largest:\",maxi)\n",
    "print(\"Smallest:\",mini)"
   ]
  },
  {
   "cell_type": "code",
   "execution_count": null,
   "id": "4c74b3bf",
   "metadata": {},
   "outputs": [
    {
     "name": "stdout",
     "output_type": "stream",
     "text": [
      "Total bill: 35\n"
     ]
    },
    {
     "ename": "",
     "evalue": "",
     "output_type": "error",
     "traceback": [
      "\u001b[1;31mnotebook controller is DISPOSED. \n",
      "\u001b[1;31mView Jupyter <a href='command:jupyter.viewOutput'>log</a> for further details."
     ]
    }
   ],
   "source": [
    "#12\n",
    "num=int(input(\"Enter no. of items\"))\n",
    "items={}\n",
    "for i in range(num):\n",
    "    name=input(\"Enter item name\")\n",
    "    price=int(input(\"Enter price\"))\n",
    "    items[name]=price\n",
    "    bill=sum(items.values())\n",
    "print(\"Total bill:\",bill)"
   ]
  },
  {
   "cell_type": "code",
   "execution_count": null,
   "id": "1da95e18",
   "metadata": {},
   "outputs": [
    {
     "name": "stdout",
     "output_type": "stream",
     "text": [
      "C is largest\n"
     ]
    },
    {
     "ename": "",
     "evalue": "",
     "output_type": "error",
     "traceback": [
      "\u001b[1;31mnotebook controller is DISPOSED. \n",
      "\u001b[1;31mView Jupyter <a href='command:jupyter.viewOutput'>log</a> for further details."
     ]
    }
   ],
   "source": [
    "#13\n",
    "a,b,c=list(map(int,input(\"Enter 3 num\").split()))\n",
    "if a>b and a>c:\n",
    "    print(\"A is largest\")\n",
    "elif b>c and b>a:\n",
    "    print(\"B is largest\")\n",
    "else:\n",
    "    print(\"C is largest\")"
   ]
  },
  {
   "cell_type": "code",
   "execution_count": null,
   "id": "472607b0",
   "metadata": {},
   "outputs": [
    {
     "name": "stdout",
     "output_type": "stream",
     "text": [
      "B 1\n",
      "a 3\n",
      "n 2\n"
     ]
    },
    {
     "ename": "",
     "evalue": "",
     "output_type": "error",
     "traceback": [
      "\u001b[1;31mnotebook controller is DISPOSED. \n",
      "\u001b[1;31mView Jupyter <a href='command:jupyter.viewOutput'>log</a> for further details."
     ]
    },
    {
     "ename": "",
     "evalue": "",
     "output_type": "error",
     "traceback": [
      "\u001b[1;31mnotebook controller is DISPOSED. \n",
      "\u001b[1;31mView Jupyter <a href='command:jupyter.viewOutput'>log</a> for further details."
     ]
    }
   ],
   "source": [
    "from collections import Counter\n",
    "text = input(\"Enter a string: \")\n",
    "count = Counter(text)\n",
    "for ch, freq in count.items():\n",
    "    print(ch,freq)\n"
   ]
  },
  {
   "cell_type": "code",
   "execution_count": null,
   "id": "3ed824b2",
   "metadata": {},
   "outputs": [
    {
     "name": "stdout",
     "output_type": "stream",
     "text": [
      "Rupees 10/unit\n"
     ]
    },
    {
     "ename": "",
     "evalue": "",
     "output_type": "error",
     "traceback": [
      "\u001b[1;31mnotebook controller is DISPOSED. \n",
      "\u001b[1;31mView Jupyter <a href='command:jupyter.viewOutput'>log</a> for further details."
     ]
    },
    {
     "ename": "",
     "evalue": "",
     "output_type": "error",
     "traceback": [
      "\u001b[1;31mnotebook controller is DISPOSED. \n",
      "\u001b[1;31mView Jupyter <a href='command:jupyter.viewOutput'>log</a> for further details."
     ]
    }
   ],
   "source": [
    "#15\n",
    "bill=int(input(\"Enter bill\"))\n",
    "if bill>0 and bill<100:\n",
    "    print(\"Rupees 5/ unit\")\n",
    "elif bill>100 and bill<200:\n",
    "    print(\"Rupees 7/unit\")\n",
    "else:\n",
    "    print(\"Rupees 10/unit\")\n"
   ]
  },
  {
   "cell_type": "code",
   "execution_count": null,
   "id": "aca85b28",
   "metadata": {},
   "outputs": [
    {
     "name": "stdout",
     "output_type": "stream",
     "text": [
      "['abhi', 'dheeraj', 'rani']\n"
     ]
    },
    {
     "ename": "",
     "evalue": "",
     "output_type": "error",
     "traceback": [
      "\u001b[1;31mnotebook controller is DISPOSED. \n",
      "\u001b[1;31mView Jupyter <a href='command:jupyter.viewOutput'>log</a> for further details."
     ]
    },
    {
     "ename": "",
     "evalue": "",
     "output_type": "error",
     "traceback": [
      "\u001b[1;31mnotebook controller is DISPOSED. \n",
      "\u001b[1;31mView Jupyter <a href='command:jupyter.viewOutput'>log</a> for further details."
     ]
    }
   ],
   "source": [
    "#16\n",
    "names=input(\"Enter names\").split()\n",
    "names.sort()\n",
    "print(names)\n"
   ]
  },
  {
   "cell_type": "code",
   "execution_count": null,
   "id": "a3d1a91d",
   "metadata": {},
   "outputs": [
    {
     "name": "stdout",
     "output_type": "stream",
     "text": [
      "Reversed number: 4321\n"
     ]
    },
    {
     "ename": "",
     "evalue": "",
     "output_type": "error",
     "traceback": [
      "\u001b[1;31mnotebook controller is DISPOSED. \n",
      "\u001b[1;31mView Jupyter <a href='command:jupyter.viewOutput'>log</a> for further details."
     ]
    }
   ],
   "source": [
    "#17\n",
    "num = int(input(\"Enter a number: \"))\n",
    "rev = int(str(num)[::-1])\n",
    "print(\"Reversed number:\", rev)\n",
    "\n"
   ]
  },
  {
   "cell_type": "code",
   "execution_count": null,
   "id": "f390da94",
   "metadata": {},
   "outputs": [
    {
     "name": "stdout",
     "output_type": "stream",
     "text": [
      "Positive numbers: 2\n",
      "Negative numbers: 1\n",
      "Zeros: 1\n"
     ]
    },
    {
     "ename": "",
     "evalue": "",
     "output_type": "error",
     "traceback": [
      "\u001b[1;31mnotebook controller is DISPOSED. \n",
      "\u001b[1;31mView Jupyter <a href='command:jupyter.viewOutput'>log</a> for further details."
     ]
    }
   ],
   "source": [
    "#18\n",
    "num=list(map(int,input(\"Enter num\").split()))\n",
    "pcount=0\n",
    "ncount=0\n",
    "zcount=0\n",
    "for i in num:\n",
    "    if i > 0:\n",
    "        pcount += 1\n",
    "    elif i < 0:\n",
    "        ncount += 1\n",
    "    else:\n",
    "        zcount += 1\n",
    "\n",
    "print(\"Positive numbers:\", pcount)\n",
    "print(\"Negative numbers:\", ncount)\n",
    "print(\"Zeros:\", zcount)"
   ]
  },
  {
   "cell_type": "code",
   "execution_count": 30,
   "id": "656b1ba5",
   "metadata": {},
   "outputs": [
    {
     "name": "stdout",
     "output_type": "stream",
     "text": [
      "Ateempts left: 2\n",
      "Ateempts left: 1\n",
      "Ateempts left: 0\n"
     ]
    }
   ],
   "source": [
    "#19\n",
    "correct_pin = \"1234\"  \n",
    "attempts = 3\n",
    "\n",
    "while attempts > 0:\n",
    "    pin = input(\"Enter PIN: \")\n",
    "    if pin == correct_pin:\n",
    "        print(\"Access Granted \")\n",
    "        break\n",
    "    else:\n",
    "        attempts -= 1\n",
    "        print(\"Ateempts left:\",attempts)"
   ]
  },
  {
   "cell_type": "code",
   "execution_count": null,
   "id": "dbb613f1",
   "metadata": {},
   "outputs": [
    {
     "name": "stdout",
     "output_type": "stream",
     "text": [
      "Can't divisible by 0\n",
      "Finally block\n"
     ]
    }
   ],
   "source": [
    "#20\n",
    "try:\n",
    "    a=int(input(\"Enter a\"))\n",
    "    b=int(input(\"Enter b\"))\n",
    "    c=a/b\n",
    "    print(c)\n",
    "except ZeroDivisionError:\n",
    "    print(\"Can't divisible by 0\")\n",
    "finally:\n",
    "    print(\"Finally block\")\n"
   ]
  },
  {
   "cell_type": "code",
   "execution_count": 35,
   "id": "405b3fe7",
   "metadata": {},
   "outputs": [
    {
     "name": "stdout",
     "output_type": "stream",
     "text": [
      "Incorrect input\n",
      "Finally block\n"
     ]
    }
   ],
   "source": [
    "#21\n",
    "try:\n",
    "    a=int(input(\"Enter a\"))\n",
    "    b=int(input(\"Enter b\"))\n",
    "    c=a/b\n",
    "    print(c)\n",
    "except ValueError:\n",
    "    print(\"Incorrect input\")\n",
    "except ZeroDivisionError:\n",
    "    print(\"Can't divisible by 0\")\n",
    "finally:\n",
    "    print(\"Finally block\")\n"
   ]
  },
  {
   "cell_type": "code",
   "execution_count": 37,
   "id": "9de6e251",
   "metadata": {},
   "outputs": [
    {
     "name": "stdout",
     "output_type": "stream",
     "text": [
      "Exception occurs\n"
     ]
    }
   ],
   "source": [
    "#22\n",
    "try:\n",
    "    withdrawal=int(input(\"Enter withdraw\"))\n",
    "    balance=int(input(\"Enter balance\"))\n",
    "    if withdrawal>balance:\n",
    "        raise Exception\n",
    "except Exception:\n",
    "    print(\"Exception occurs\")\n"
   ]
  },
  {
   "cell_type": "code",
   "execution_count": 39,
   "id": "6bf765fd",
   "metadata": {},
   "outputs": [
    {
     "name": "stdout",
     "output_type": "stream",
     "text": [
      "Invalid input\n",
      "Bill processing finished\n"
     ]
    }
   ],
   "source": [
    "#23\n",
    "try:\n",
    "    bill=int(input(\"Enter bill\"))\n",
    "    if bill>0 and bill<100:\n",
    "        print(\"Rupees 5/ unit\")\n",
    "    elif bill>100 and bill<200:\n",
    "        print(\"Rupees 7/unit\")\n",
    "    else:\n",
    "        print(\"Rupees 10/unit\")\n",
    "\n",
    "except ValueError:\n",
    "    print(\"Invalid input\")\n",
    "finally:\n",
    "    print(\"Bill processing finished\")\n",
    "\n"
   ]
  },
  {
   "cell_type": "code",
   "execution_count": 42,
   "id": "15ed2a8b",
   "metadata": {},
   "outputs": [
    {
     "name": "stdout",
     "output_type": "stream",
     "text": [
      "Error: The file 'text.txt' was not found.\n"
     ]
    }
   ],
   "source": [
    "def cw():\n",
    "    try:\n",
    "        with open('text.txt', 'r') as file:\n",
    "            f = file.read().split()\n",
    "            print(len(f))\n",
    "    except FileNotFoundError:\n",
    "        print(\"Error: The file 'text.txt' was not found.\")\n",
    "\n",
    "cw()"
   ]
  }
 ],
 "metadata": {
  "kernelspec": {
   "display_name": "myenv",
   "language": "python",
   "name": "python3"
  },
  "language_info": {
   "codemirror_mode": {
    "name": "ipython",
    "version": 3
   },
   "file_extension": ".py",
   "mimetype": "text/x-python",
   "name": "python",
   "nbconvert_exporter": "python",
   "pygments_lexer": "ipython3",
   "version": "3.11.13"
  }
 },
 "nbformat": 4,
 "nbformat_minor": 5
}
