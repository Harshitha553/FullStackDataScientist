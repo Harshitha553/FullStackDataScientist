{
 "cells": [
  {
   "cell_type": "code",
   "execution_count": 1,
   "id": "4d1c774c-b5a6-4537-99ad-8078b5d989fe",
   "metadata": {},
   "outputs": [
    {
     "name": "stdout",
     "output_type": "stream",
     "text": [
      " 50 3\n",
      " 30 5\n",
      " 20 3\n"
     ]
    },
    {
     "name": "stdout",
     "output_type": "stream",
     "text": [
      "360\n"
     ]
    }
   ],
   "source": [
    "item1,q1=map(int,input(\"Item1 Price:).split())\n",
    "item2,q2=map(int,input().split())\n",
    "item3,q3=map(int,input().split())\n",
    "total_bill=(item1*q1)+(item2*q2)+(item3*q3)\n",
    "print(total_bill)"
   ]
  },
  {
   "cell_type": "code",
   "execution_count": 2,
   "id": "63e82663-098b-46ed-9a36-0adffc8e52d2",
   "metadata": {},
   "outputs": [
    {
     "name": "stdout",
     "output_type": "stream",
     "text": [
      "Enter first number: 15\n",
      "Enter second number: 4\n"
     ]
    },
    {
     "name": "stdout",
     "output_type": "stream",
     "text": [
      "Addition= 19\n",
      "Subtraction= 11\n",
      "Multiplication= 60\n",
      "Division= 3.75\n",
      "Modulus= 3\n"
     ]
    }
   ],
   "source": [
    "num1=int(input(\"Enter first number:\"))\n",
    "num2=int(input(\"Enter second number:\"))\n",
    "add=num1+num2\n",
    "sub=num1-num2\n",
    "mul=num1*num2\n",
    "div=num1/num2\n",
    "mod=num1%num2\n",
    "print(\"Addition=\",add)\n",
    "print(\"Subtraction=\",sub)\n",
    "print(\"Multiplication=\",mul)\n",
    "print(\"Division=\",div)\n",
    "print(\"Modulus=\",mod)"
   ]
  },
  {
   "cell_type": "code",
   "execution_count": 4,
   "id": "bbc05b3e-1e2d-4173-b472-abe2e8a61f0f",
   "metadata": {},
   "outputs": [
    {
     "name": "stdout",
     "output_type": "stream",
     "text": [
      "Enter marks: 82\n"
     ]
    },
    {
     "name": "stdout",
     "output_type": "stream",
     "text": [
      "Grade: A(Excellent)\n"
     ]
    }
   ],
   "source": [
    "marks=int(input(\"Enter marks:\"))\n",
    "if marks>=90:\n",
    "    grade=\"A+\"\n",
    "elif marks>80 and marks<89:\n",
    "    grade=\"A(Excellent)\"\n",
    "elif marks>70 and marks<79:\n",
    "    grade=\"B\"\n",
    "elif marks>60 and marks<69:\n",
    "    grade=\"C\"\n",
    "else:\n",
    "    print(\"fail\")\n",
    "print(\"Grade:\",grade)"
   ]
  },
  {
   "cell_type": "code",
   "execution_count": 8,
   "id": "0639211e-de4b-4010-9f23-e450cbff5005",
   "metadata": {},
   "outputs": [
    {
     "name": "stdout",
     "output_type": "stream",
     "text": [
      "Marks: 45 78 88 56 90\n"
     ]
    },
    {
     "name": "stdout",
     "output_type": "stream",
     "text": [
      "Highest Marks= 90\n",
      "Lowest Marks= 45\n",
      "Average Marks= 71.4\n"
     ]
    }
   ],
   "source": [
    "marks2=list(map(int,input(\"Marks:\").split()))\n",
    "highest=max(marks2)\n",
    "lowest=min(marks2)\n",
    "average=sum(marks2)/len(marks2)\n",
    "print(\"Highest Marks=\",highest)\n",
    "print(\"Lowest Marks=\",lowest)\n",
    "print(\"Average Marks=\",average)"
   ]
  },
  {
   "cell_type": "code",
   "execution_count": 12,
   "id": "13310ea8-7bf7-4561-b2c7-43da2d1073cf",
   "metadata": {},
   "outputs": [
    {
     "name": "stdout",
     "output_type": "stream",
     "text": [
      " 3\n",
      " Suhel\n",
      " 9876543210\n",
      " Ravi\n",
      " 9123456780\n",
      " Anitha\n",
      " 9988776655\n"
     ]
    },
    {
     "name": "stdout",
     "output_type": "stream",
     "text": [
      "\n",
      "Phonebook: {'Suhel': 9876543210, 'Ravi': 9123456780, 'Anitha': 9988776655}\n"
     ]
    },
    {
     "name": "stdout",
     "output_type": "stream",
     "text": [
      "Search Name:  Ravi\n"
     ]
    },
    {
     "name": "stdout",
     "output_type": "stream",
     "text": [
      "Phone Number of Ravi: 9123456780\n"
     ]
    }
   ],
   "source": [
    "phonebook = {}\n",
    "n = int(input())\n",
    "for i in range(n):\n",
    "    name = input()\n",
    "    number = int(input())\n",
    "    phonebook[name] = number\n",
    "print(\"\\nPhonebook:\", phonebook)\n",
    "search_name = input(\"Search Name: \")\n",
    "if search_name in phonebook:\n",
    "    print(f\"Phone Number of {search_name}: {phonebook[search_name]}\")\n",
    "else:\n",
    "    print(f\"{search_name} not found in phonebook.\")\n"
   ]
  },
  {
   "cell_type": "code",
   "execution_count": 2,
   "id": "6f33cfb3-9308-4ed0-a6b6-c504619ed51e",
   "metadata": {},
   "outputs": [
    {
     "name": "stdout",
     "output_type": "stream",
     "text": [
      "Total Words = 3\n",
      "Total Characters = 17\n",
      "Total Vowels = 6\n"
     ]
    }
   ],
   "source": [
    "sen=input(\"Enter sentence: \")\n",
    "count=0\n",
    "in_word=False\n",
    "for ch in sen:\n",
    " if ch!=\" \":\n",
    "  if not in_word:\n",
    "   count+=1\n",
    "   in_word=True\n",
    " else:\n",
    "  in_word=False\n",
    "vowels=0\n",
    "for ch in sen.lower():\n",
    " if ch.isalpha() and ch in \"aeiou\":\n",
    "  vowels+=1\n",
    "characters=len(sen)\n",
    "print(\"Total Words =\",count)\n",
    "print(\"Total Characters =\",characters)\n",
    "print(\"Total Vowels =\",vowels)\n"
   ]
  },
  {
   "cell_type": "code",
   "execution_count": 1,
   "id": "8acfa686",
   "metadata": {},
   "outputs": [
    {
     "name": "stdout",
     "output_type": "stream",
     "text": [
      "Compound Interest = 512.5\n",
      "Total Amount = 5512.5\n"
     ]
    }
   ],
   "source": [
    "p=float(input(\"Principal = \"))\n",
    "r=float(input(\"Rate = \"))\n",
    "t=float(input(\"Time = \"))\n",
    "itype=input(\"Interest Type = \").lower()\n",
    "if itype==\"simple\":\n",
    " si=(p*r*t)/100\n",
    " total=p+si\n",
    " print(\"Simple Interest =\",round(si,2))\n",
    " print(\"Total Amount =\",round(total,2))\n",
    "elif itype==\"compound\":\n",
    " ci=p*((1+r/100)**t)-p\n",
    " total=p+ci\n",
    " print(\"Compound Interest =\",round(ci,2))\n",
    " print(\"Total Amount =\",round(total,2))\n",
    "else:\n",
    " print(\"Invalid Interest Type\")\n"
   ]
  },
  {
   "cell_type": "code",
   "execution_count": 2,
   "id": "fd0d02ad",
   "metadata": {},
   "outputs": [
    {
     "name": "stdout",
     "output_type": "stream",
     "text": [
      "Encrypted Message: KHOOR\n"
     ]
    }
   ],
   "source": [
    "msg=input(\"Message = \").upper()\n",
    "shift=int(input(\"Shift = \"))\n",
    "enc=\"\"\n",
    "for ch in msg:\n",
    " if ch.isalpha():\n",
    "  enc+=chr((ord(ch)-65+shift)%26+65)\n",
    " else:\n",
    "  enc+=ch\n",
    "print(\"Encrypted Message:\",enc)\n"
   ]
  },
  {
   "cell_type": "code",
   "execution_count": 3,
   "id": "9c90aae6",
   "metadata": {},
   "outputs": [
    {
     "name": "stdout",
     "output_type": "stream",
     "text": [
      "PIN Verified.\n",
      "Withdrawal Successful. Remaining Balance = 3000\n"
     ]
    }
   ],
   "source": [
    "pin=int(input(\"PIN: \"))\n",
    "if pin==1234:\n",
    " print(\"PIN Verified.\")\n",
    " balance=int(input(\"Balance=\"))\n",
    " withdraw=int(input(\"Withdraw = \"))\n",
    " if withdraw<=balance:\n",
    "  balance-=withdraw\n",
    "  print(\"Withdrawal Successful. Remaining Balance =\",balance)\n",
    " else:\n",
    "  print(\"Insufficient Balance\")\n",
    "else:\n",
    " print(\"Invalid PIN\")\n"
   ]
  },
  {
   "cell_type": "code",
   "execution_count": 4,
   "id": "b1000f83",
   "metadata": {},
   "outputs": [
    {
     "name": "stdout",
     "output_type": "stream",
     "text": [
      "Current Books: ['Python', 'AI', 'Machine Learning']\n",
      "Total Books: 3\n"
     ]
    }
   ],
   "source": [
    "books=[]\n",
    "\n",
    "n=int(input(\"How many books to add initially? \"))\n",
    "for i in range(n):\n",
    " book=input(f\"Enter book {i+1}: \")\n",
    " books.append(book)\n",
    "\n",
    "add=input(\"Add Book: \")\n",
    "books.append(add)\n",
    "\n",
    "remove=input(\"Remove Book: \")\n",
    "if remove in books:\n",
    " books.remove(remove)\n",
    "\n",
    "print(\"Current Books:\",books)\n",
    "print(\"Total Books:\",len(books))\n"
   ]
  }
 ],
 "metadata": {
  "kernelspec": {
   "display_name": "myenv",
   "language": "python",
   "name": "python3"
  },
  "language_info": {
   "codemirror_mode": {
    "name": "ipython",
    "version": 3
   },
   "file_extension": ".py",
   "mimetype": "text/x-python",
   "name": "python",
   "nbconvert_exporter": "python",
   "pygments_lexer": "ipython3",
   "version": "3.11.13"
  }
 },
 "nbformat": 4,
 "nbformat_minor": 5
}
