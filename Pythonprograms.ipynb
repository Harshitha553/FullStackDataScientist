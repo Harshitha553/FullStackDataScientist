{
 "cells": [
  {
   "cell_type": "code",
   "execution_count": 4,
   "id": "f8ab8269-2ca9-47b0-8d8a-27f0e2d1647c",
   "metadata": {},
   "outputs": [
    {
     "name": "stdin",
     "output_type": "stream",
     "text": [
      " 5 3\n"
     ]
    },
    {
     "name": "stdout",
     "output_type": "stream",
     "text": [
      "Before Swapping\n",
      "5\n",
      "3\n",
      "After Swapping\n",
      "3\n",
      "5\n"
     ]
    }
   ],
   "source": [
    "a,b=map(int,input().split())\n",
    "print(\"Before Swapping\")\n",
    "print(a)\n",
    "print(b)\n",
    "a,b=b,a\n",
    "print(\"After Swapping\")\n",
    "print(a)\n",
    "print(b)"
   ]
  },
  {
   "cell_type": "code",
   "execution_count": 2,
   "id": "a1a86bf9-38e9-47cb-a620-29b78d37e586",
   "metadata": {},
   "outputs": [
    {
     "name": "stdout",
     "output_type": "stream",
     "text": [
      "Original: Hello World\n",
      "Reversed: dlroW olleH\n"
     ]
    }
   ],
   "source": [
    "text = \"Hello World\"\n",
    "reversed_text = \"\".join(reversed(text))\n",
    "print(\"Original:\", text)\n",
    "print(\"Reversed:\", reversed_text)"
   ]
  },
  {
   "cell_type": "code",
   "execution_count": 9,
   "id": "4f276610-8dc3-4656-af93-0f191facfe1e",
   "metadata": {},
   "outputs": [
    {
     "name": "stdin",
     "output_type": "stream",
     "text": [
      "Enter a number 370\n"
     ]
    },
    {
     "name": "stdout",
     "output_type": "stream",
     "text": [
      "True\n"
     ]
    }
   ],
   "source": [
    "num=int(input(\"Enter a number\"))\n",
    "digits=str(num)\n",
    "power=len(digits)\n",
    "total=0\n",
    "for digit in digits:\n",
    "    total+=int(digit)**power\n",
    "if(num==total):\n",
    "    print(True)\n",
    "else:\n",
    "    print(False)"
   ]
  },
  {
   "cell_type": "code",
   "execution_count": null,
   "id": "e14020aa-f0b7-487c-a38f-f7b8f38743e8",
   "metadata": {},
   "outputs": [],
   "source": [
    "num=int(input(\"Enter a number\")"
   ]
  },
  {
   "cell_type": "code",
   "execution_count": 14,
   "id": "cbaf3aba-ff6e-4cf0-a8f6-8178e0812c10",
   "metadata": {},
   "outputs": [
    {
     "name": "stdin",
     "output_type": "stream",
     "text": [
      " 8 6 9 3 2\n"
     ]
    },
    {
     "name": "stdout",
     "output_type": "stream",
     "text": [
      "9\n"
     ]
    }
   ],
   "source": [
    "a,b,c,d,e=map(int,input().split())\n",
    "largest=max(a,b,c,d,e)\n",
    "print(largest)"
   ]
  },
  {
   "cell_type": "code",
   "execution_count": 21,
   "id": "5fce2a24-80c3-4a6d-9ab7-706af5e73561",
   "metadata": {},
   "outputs": [
    {
     "name": "stdin",
     "output_type": "stream",
     "text": [
      "Enter a year 2016\n"
     ]
    },
    {
     "name": "stdout",
     "output_type": "stream",
     "text": [
      "Leap year\n"
     ]
    }
   ],
   "source": [
    "year=int(input(\"Enter a year\"))\n",
    "if(year%400==0) or (year%4==0 and year&100!=0):\n",
    "    print(\"Leap year\")\n",
    "else:\n",
    "    print(\"Not a leap year\")"
   ]
  },
  {
   "cell_type": "code",
   "execution_count": 23,
   "id": "7e5706cb-7563-4cc5-a49b-b6d5722dff76",
   "metadata": {},
   "outputs": [
    {
     "name": "stdin",
     "output_type": "stream",
     "text": [
      "Enter a number:  5\n"
     ]
    },
    {
     "name": "stdout",
     "output_type": "stream",
     "text": [
      "5 x 1 = 5\n",
      "5 x 2 = 10\n",
      "5 x 3 = 15\n",
      "5 x 4 = 20\n",
      "5 x 5 = 25\n",
      "5 x 6 = 30\n",
      "5 x 7 = 35\n",
      "5 x 8 = 40\n",
      "5 x 9 = 45\n",
      "5 x 10 = 50\n"
     ]
    }
   ],
   "source": [
    "num = int(input(\"Enter a number: \"))\n",
    "for i in range(1, 11):   \n",
    "    print(num, \"x\", i, \"=\", num * i)\n"
   ]
  },
  {
   "cell_type": "code",
   "execution_count": 29,
   "id": "9c3630a0-1687-4e7c-8be2-be085790b17d",
   "metadata": {},
   "outputs": [
    {
     "name": "stdin",
     "output_type": "stream",
     "text": [
      " dad\n"
     ]
    },
    {
     "name": "stdout",
     "output_type": "stream",
     "text": [
      "Yes\n"
     ]
    }
   ],
   "source": [
    "sen=input()\n",
    "reverse=sen[::-1]\n",
    "if(sen==reverse):\n",
    "    print(\"Yes\")\n",
    "else:\n",
    "    print(\"No\")"
   ]
  },
  {
   "cell_type": "code",
   "execution_count": 33,
   "id": "a4ecd46d-ddf2-491c-87e9-82bc202a2a22",
   "metadata": {},
   "outputs": [
    {
     "name": "stdout",
     "output_type": "stream",
     "text": [
      "15\n",
      "30\n",
      "45\n",
      "60\n",
      "75\n",
      "90\n"
     ]
    }
   ],
   "source": [
    "for i in range(1,101):\n",
    "    if(i%3==0 and i%5==0):\n",
    "        print(i)"
   ]
  },
  {
   "cell_type": "code",
   "execution_count": null,
   "id": "7e31633a-5b9e-4cdb-a17d-39de4af58ea6",
   "metadata": {},
   "outputs": [],
   "source": []
  },
  {
   "cell_type": "code",
   "execution_count": null,
   "id": "f0cefac1-0723-4b1e-be2b-3d74e5adf170",
   "metadata": {},
   "outputs": [],
   "source": []
  }
 ],
 "metadata": {
  "kernelspec": {
   "display_name": "Python 3 (ipykernel)",
   "language": "python",
   "name": "python3"
  },
  "language_info": {
   "codemirror_mode": {
    "name": "ipython",
    "version": 3
   },
   "file_extension": ".py",
   "mimetype": "text/x-python",
   "name": "python",
   "nbconvert_exporter": "python",
   "pygments_lexer": "ipython3",
   "version": "3.13.5"
  }
 },
 "nbformat": 4,
 "nbformat_minor": 5
}
