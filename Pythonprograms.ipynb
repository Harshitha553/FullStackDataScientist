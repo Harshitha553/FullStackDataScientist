{
 "cells": [
  {
   "cell_type": "code",
   "execution_count": 4,
   "id": "f8ab8269-2ca9-47b0-8d8a-27f0e2d1647c",
   "metadata": {},
   "outputs": [
    {
     "name": "stdin",
     "output_type": "stream",
     "text": [
      " 5 3\n"
     ]
    },
    {
     "name": "stdout",
     "output_type": "stream",
     "text": [
      "Before Swapping\n",
      "5\n",
      "3\n",
      "After Swapping\n",
      "3\n",
      "5\n"
     ]
    }
   ],
   "source": [
    "a,b=map(int,input().split())\n",
    "print(\"Before Swapping\")\n",
    "print(a)\n",
    "print(b)\n",
    "a,b=b,a\n",
    "print(\"After Swapping\")\n",
    "print(a)\n",
    "print(b)"
   ]
  },
  {
   "cell_type": "code",
   "execution_count": 2,
   "id": "a1a86bf9-38e9-47cb-a620-29b78d37e586",
   "metadata": {},
   "outputs": [
    {
     "name": "stdout",
     "output_type": "stream",
     "text": [
      "Original: Hello World\n",
      "Reversed: dlroW olleH\n"
     ]
    }
   ],
   "source": [
    "text = \"Hello World\"\n",
    "reversed_text = \"\".join(reversed(text))\n",
    "print(\"Original:\", text)\n",
    "print(\"Reversed:\", reversed_text)"
   ]
  },
  {
   "cell_type": "code",
   "execution_count": 9,
   "id": "4f276610-8dc3-4656-af93-0f191facfe1e",
   "metadata": {},
   "outputs": [
    {
     "name": "stdin",
     "output_type": "stream",
     "text": [
      "Enter a number 370\n"
     ]
    },
    {
     "name": "stdout",
     "output_type": "stream",
     "text": [
      "True\n"
     ]
    }
   ],
   "source": [
    "num=int(input(\"Enter a number\"))\n",
    "digits=str(num)\n",
    "power=len(digits)\n",
    "total=0\n",
    "for digit in digits:\n",
    "    total+=int(digit)**power\n",
    "if(num==total):\n",
    "    print(True)\n",
    "else:\n",
    "    print(False)"
   ]
  },
  {
   "cell_type": "code",
   "execution_count": null,
   "id": "e14020aa-f0b7-487c-a38f-f7b8f38743e8",
   "metadata": {},
   "outputs": [],
   "source": [
    "num=int(input(\"Enter a number\")"
   ]
  },
  {
   "cell_type": "code",
   "execution_count": 14,
   "id": "cbaf3aba-ff6e-4cf0-a8f6-8178e0812c10",
   "metadata": {},
   "outputs": [
    {
     "name": "stdin",
     "output_type": "stream",
     "text": [
      " 8 6 9 3 2\n"
     ]
    },
    {
     "name": "stdout",
     "output_type": "stream",
     "text": [
      "9\n"
     ]
    }
   ],
   "source": [
    "a,b,c,d,e=map(int,input().split())\n",
    "largest=max(a,b,c,d,e)\n",
    "print(largest)"
   ]
  },
  {
   "cell_type": "code",
   "execution_count": 21,
   "id": "5fce2a24-80c3-4a6d-9ab7-706af5e73561",
   "metadata": {},
   "outputs": [
    {
     "name": "stdin",
     "output_type": "stream",
     "text": [
      "Enter a year 2016\n"
     ]
    },
    {
     "name": "stdout",
     "output_type": "stream",
     "text": [
      "Leap year\n"
     ]
    }
   ],
   "source": [
    "year=int(input(\"Enter a year\"))\n",
    "if(year%400==0) or (year%4==0 and year&100!=0):\n",
    "    print(\"Leap year\")\n",
    "else:\n",
    "    print(\"Not a leap year\")"
   ]
  },
  {
   "cell_type": "code",
   "execution_count": 23,
   "id": "7e5706cb-7563-4cc5-a49b-b6d5722dff76",
   "metadata": {},
   "outputs": [
    {
     "name": "stdin",
     "output_type": "stream",
     "text": [
      "Enter a number:  5\n"
     ]
    },
    {
     "name": "stdout",
     "output_type": "stream",
     "text": [
      "5 x 1 = 5\n",
      "5 x 2 = 10\n",
      "5 x 3 = 15\n",
      "5 x 4 = 20\n",
      "5 x 5 = 25\n",
      "5 x 6 = 30\n",
      "5 x 7 = 35\n",
      "5 x 8 = 40\n",
      "5 x 9 = 45\n",
      "5 x 10 = 50\n"
     ]
    }
   ],
   "source": [
    "num = int(input(\"Enter a number: \"))\n",
    "for i in range(1, 11):   \n",
    "    print(num, \"x\", i, \"=\", num * i)\n"
   ]
  },
  {
   "cell_type": "code",
   "execution_count": 29,
   "id": "9c3630a0-1687-4e7c-8be2-be085790b17d",
   "metadata": {},
   "outputs": [
    {
     "name": "stdin",
     "output_type": "stream",
     "text": [
      " dad\n"
     ]
    },
    {
     "name": "stdout",
     "output_type": "stream",
     "text": [
      "Yes\n"
     ]
    }
   ],
   "source": [
    "sen=input()\n",
    "reverse=sen[::-1]\n",
    "if(sen==reverse):\n",
    "    print(\"Yes\")\n",
    "else:\n",
    "    print(\"No\")"
   ]
  },
  {
   "cell_type": "code",
   "execution_count": 33,
   "id": "a4ecd46d-ddf2-491c-87e9-82bc202a2a22",
   "metadata": {},
   "outputs": [
    {
     "name": "stdout",
     "output_type": "stream",
     "text": [
      "15\n",
      "30\n",
      "45\n",
      "60\n",
      "75\n",
      "90\n"
     ]
    }
   ],
   "source": [
    "for i in range(1,101):\n",
    "    if(i%3==0 and i%5==0):\n",
    "        print(i)"
   ]
  },
  {
   "cell_type": "code",
   "execution_count": 7,
   "id": "7e31633a-5b9e-4cdb-a17d-39de4af58ea6",
   "metadata": {},
   "outputs": [
    {
     "name": "stdin",
     "output_type": "stream",
     "text": [
      " mom\n"
     ]
    },
    {
     "name": "stdout",
     "output_type": "stream",
     "text": [
      "Vowels: 1\n",
      "Consonants: 2\n"
     ]
    }
   ],
   "source": [
    "s=input()\n",
    "vowels=0\n",
    "consonants=0\n",
    "for ch in s.lower():\n",
    "    if ch.isalpha():\n",
    "        if ch in \"aeiou\":\n",
    "            vowels+=1\n",
    "        else:\n",
    "            consonants+=1\n",
    "print(\"Vowels:\",vowels)\n",
    "print(\"Consonants:\",consonants)"
   ]
  },
  {
   "cell_type": "code",
   "execution_count": 11,
   "id": "457ffa30-420c-44b4-8080-171f2aa2a846",
   "metadata": {},
   "outputs": [
    {
     "name": "stdin",
     "output_type": "stream",
     "text": [
      " 5\n"
     ]
    },
    {
     "name": "stdout",
     "output_type": "stream",
     "text": [
      "120\n"
     ]
    }
   ],
   "source": [
    "num=int(input())\n",
    "res=1\n",
    "for i in range(num,0,-1):\n",
    "    res=res*i\n",
    "print(res)"
   ]
  },
  {
   "cell_type": "code",
   "execution_count": 13,
   "id": "0e924b2e-0fe8-4514-9b27-9e78c1ea7390",
   "metadata": {},
   "outputs": [
    {
     "name": "stdin",
     "output_type": "stream",
     "text": [
      " 12\n"
     ]
    },
    {
     "name": "stdout",
     "output_type": "stream",
     "text": [
      "Not a prime\n"
     ]
    }
   ],
   "source": [
    "num=int(input())\n",
    "isPrime=True\n",
    "if num<=1:\n",
    "    isPrime=False\n",
    "else:\n",
    "    for i in range(2,num//2+1):\n",
    "        if(num%i==0):\n",
    "            isPrime=False\n",
    "        else:\n",
    "            isPrime=True\n",
    "if isPrime:\n",
    "    print(\"Yes! Prime\")\n",
    "else:\n",
    "    print(\"Not a prime\")"
   ]
  },
  {
   "cell_type": "code",
   "execution_count": 17,
   "id": "6e2ed9fb-37d1-4aa6-ad24-5d52c28b5161",
   "metadata": {},
   "outputs": [
    {
     "name": "stdin",
     "output_type": "stream",
     "text": [
      " 6 7 3 5 0\n"
     ]
    },
    {
     "name": "stdout",
     "output_type": "stream",
     "text": [
      "6\n"
     ]
    }
   ],
   "source": [
    "num=list(map(int,input().split()))\n",
    "max=float(\"-inf\")\n",
    "secondmax=float(\"-inf\")\n",
    "for i in num:\n",
    "    if i>max:\n",
    "        secondmax=max\n",
    "        max=i\n",
    "    elif i>secondmax and i!=max:\n",
    "        secondmax=i\n",
    "print(secondmax)\n"
   ]
  },
  {
   "cell_type": "code",
   "execution_count": 19,
   "id": "f062128d-70ed-4dc1-97be-9066510a32d9",
   "metadata": {},
   "outputs": [
    {
     "name": "stdout",
     "output_type": "stream",
     "text": [
      "650\n"
     ]
    }
   ],
   "source": [
    "sum=0\n",
    "for i in range(2,51,2):\n",
    "    sum=sum+i\n",
    "print(sum)\n",
    "    "
   ]
  },
  {
   "cell_type": "code",
   "execution_count": 29,
   "id": "5e57ce5a-ed72-4bec-91be-4d4061f21aab",
   "metadata": {},
   "outputs": [
    {
     "name": "stdin",
     "output_type": "stream",
     "text": [
      " Harshitha\n"
     ]
    },
    {
     "name": "stdout",
     "output_type": "stream",
     "text": [
      "8\n",
      "1\n"
     ]
    }
   ],
   "source": [
    "sen=input()\n",
    "lcount=0\n",
    "ucount=0\n",
    "for ch in sen:\n",
    "    if ch.islower():\n",
    "        lcount+=1\n",
    "    else:\n",
    "        ucount+=1\n",
    "print(lcount)\n",
    "print(ucount)"
   ]
  },
  {
   "cell_type": "code",
   "execution_count": 32,
   "id": "9bd32c33-b66a-4e10-bc45-af6862ea798e",
   "metadata": {},
   "outputs": [
    {
     "name": "stdin",
     "output_type": "stream",
     "text": [
      " 5\n"
     ]
    },
    {
     "name": "stdout",
     "output_type": "stream",
     "text": [
      "0 1 1 2 3 "
     ]
    }
   ],
   "source": [
    "n=int(input())\n",
    "a,b=0,1\n",
    "count=0\n",
    "while count<n:\n",
    "    print(a,end=\" \")\n",
    "    c=a+b\n",
    "    a=b\n",
    "    b=c\n",
    "    count+=1\n",
    "    "
   ]
  },
  {
   "cell_type": "code",
   "execution_count": 40,
   "id": "1c59892c-f1fa-4f6e-b07b-83fdff15903a",
   "metadata": {},
   "outputs": [
    {
     "name": "stdin",
     "output_type": "stream",
     "text": [
      " Listen\n",
      " Silent\n"
     ]
    },
    {
     "name": "stdout",
     "output_type": "stream",
     "text": [
      "yes! anagram\n"
     ]
    }
   ],
   "source": [
    "st1=input()\n",
    "st2=input()\n",
    "st1=st1.replace(\" \",\"\").lower()\n",
    "st2=st2.replace(\" \",\"\").lower()\n",
    "if sorted(st1)==sorted(st2):\n",
    "    print(\"yes! anagram\")\n",
    "else:\n",
    "    print(\"Not anagram\")\n"
   ]
  },
  {
   "cell_type": "code",
   "execution_count": 42,
   "id": "c4fa69cb-e6dd-427d-ae0f-3c2abc3b9fd8",
   "metadata": {},
   "outputs": [
    {
     "name": "stdin",
     "output_type": "stream",
     "text": [
      " 28\n"
     ]
    },
    {
     "name": "stdout",
     "output_type": "stream",
     "text": [
      "Yes perfect number\n"
     ]
    }
   ],
   "source": [
    "num=int(input())\n",
    "res=0\n",
    "for i in range(1,num):\n",
    "    if(num%i==0):\n",
    "        res=res+i\n",
    "if(res==num):\n",
    "    print(\"Yes perfect number\")\n",
    "else:\n",
    "    print(\"Not a perfect number\")"
   ]
  },
  {
   "cell_type": "code",
   "execution_count": 43,
   "id": "7d555486-b150-40de-814c-2a28a9eb32e2",
   "metadata": {},
   "outputs": [
    {
     "name": "stdin",
     "output_type": "stream",
     "text": [
      " 5 3 4 2 1 \n"
     ]
    },
    {
     "name": "stdout",
     "output_type": "stream",
     "text": [
      "Fail\n"
     ]
    }
   ],
   "source": [
    "a,b,c,d,e=map(int,input().split())\n",
    "percent=((a+b+c+d+e)/500)*100\n",
    "if(percent>=90):\n",
    "    print(\"A\")\n",
    "elif(percent>=75):\n",
    "    print(\"B\")\n",
    "elif(percent>=50):\n",
    "    print(\"C\")\n",
    "else:\n",
    "    print(\"Fail\")\n"
   ]
  },
  {
   "cell_type": "code",
   "execution_count": 49,
   "id": "f922ef51-364b-4e55-a3de-f700e95ed713",
   "metadata": {},
   "outputs": [
    {
     "name": "stdout",
     "output_type": "stream",
     "text": [
      "2 3 5 7 11 13 17 19 23 29 31 37 41 43 47 53 59 61 67 71 73 79 83 89 97 "
     ]
    }
   ],
   "source": [
    "for num in range(2,101):\n",
    "    isPrime=True\n",
    "    for i in range(2,num//2+1):\n",
    "        if(num%i==0):\n",
    "            isPrime=False\n",
    "            break\n",
    "    if isPrime:\n",
    "        print(num,end=\" \")"
   ]
  },
  {
   "cell_type": "code",
   "execution_count": 51,
   "id": "ae6efe81-76cc-4ace-9338-95aac28c2ead",
   "metadata": {},
   "outputs": [
    {
     "name": "stdin",
     "output_type": "stream",
     "text": [
      " I am learning python\n"
     ]
    },
    {
     "name": "stdout",
     "output_type": "stream",
     "text": [
      "No. of words: 4\n"
     ]
    }
   ],
   "source": [
    "sen=input()\n",
    "count=0\n",
    "in_word=False\n",
    "for ch in sen:\n",
    "    if ch!=\" \":\n",
    "        if not in_word:\n",
    "            count+=1\n",
    "            in_word=True\n",
    "    else:\n",
    "        in_word=False\n",
    "print(\"No. of words:\",count)"
   ]
  },
  {
   "cell_type": "code",
   "execution_count": 57,
   "id": "2aea838a-ca20-4421-a661-44e112f3b914",
   "metadata": {},
   "outputs": [
    {
     "name": "stdin",
     "output_type": "stream",
     "text": [
      " 1000 65 no\n"
     ]
    },
    {
     "name": "stdout",
     "output_type": "stream",
     "text": [
      "900.0\n"
     ]
    }
   ],
   "source": [
    "price,age,student=(input().split())\n",
    "price=float(price)\n",
    "age=int(age)\n",
    "if student.lower()==\"yes\":\n",
    "    discount=0.2*price\n",
    "elif age>=60:\n",
    "    discount=0.1*price\n",
    "else:\n",
    "    discount=0\n",
    "finalprice=price-discount\n",
    "print(finalprice)"
   ]
  },
  {
   "cell_type": "code",
   "execution_count": 64,
   "id": "7330aeb3-8788-4c84-a135-a4c702572998",
   "metadata": {},
   "outputs": [
    {
     "name": "stdin",
     "output_type": "stream",
     "text": [
      " 100 200 150\n"
     ]
    },
    {
     "name": "stdout",
     "output_type": "stream",
     "text": [
      "Final Amount Payable: 500.0\n"
     ]
    }
   ],
   "source": [
    "import builtins\n",
    "sum = builtins.sum\n",
    "prices = list(map(float, input().split()))\n",
    "cart_total = sum(prices)\n",
    "if cart_total > 500:\n",
    "    final_amount = cart_total\n",
    "else:\n",
    "    final_amount = cart_total + 50\n",
    "print(\"Final Amount Payable:\", final_amount)\n"
   ]
  },
  {
   "cell_type": "code",
   "execution_count": 66,
   "id": "9cbbcbb1-e508-474c-89e9-3b5bdb951bc4",
   "metadata": {},
   "outputs": [
    {
     "name": "stdin",
     "output_type": "stream",
     "text": [
      " 30\n"
     ]
    },
    {
     "name": "stdout",
     "output_type": "stream",
     "text": [
      "fail\n"
     ]
    }
   ],
   "source": [
    "a=int(input())\n",
    "if a>90 and a<100:\n",
    "    print(\"A\")\n",
    "elif a>75 and a<89:\n",
    "    print(\"B\")\n",
    "elif a>50 and a<74:\n",
    "    print(\"C\")\n",
    "else:\n",
    "    print(\"fail\")\n",
    "    "
   ]
  },
  {
   "cell_type": "code",
   "execution_count": 67,
   "id": "80c46338-f267-4bf3-99c3-e72ae50c1bb5",
   "metadata": {},
   "outputs": [
    {
     "name": "stdin",
     "output_type": "stream",
     "text": [
      " 590\n"
     ]
    },
    {
     "name": "stdout",
     "output_type": "stream",
     "text": [
      "0.1\n"
     ]
    }
   ],
   "source": [
    "bill=int(input())\n",
    "if bill>500 and bill<1000:\n",
    "    tip=0.1\n",
    "else:\n",
    "    tip=0.05\n",
    "print(tip)"
   ]
  },
  {
   "cell_type": "code",
   "execution_count": 70,
   "id": "eb1fee3e-d15e-49dc-8cba-b6a29fef8984",
   "metadata": {},
   "outputs": [
    {
     "name": "stdin",
     "output_type": "stream",
     "text": [
      "Enter membership period in months:  7\n"
     ]
    },
    {
     "name": "stdout",
     "output_type": "stream",
     "text": [
      "Cheapest option: 3200\n"
     ]
    }
   ],
   "source": [
    "period = int(input(\"Enter membership period in months: \"))\n",
    "one_month = 500 * period\n",
    "six_month = (period // 6) * 2700 + (period % 6) * 500\n",
    "twelve_month = (period // 12) * 5000 + (period % 12) * 500\n",
    "price = min(one_month, six_month, twelve_month)\n",
    "print(\"Cheapest option:\", price)\n"
   ]
  },
  {
   "cell_type": "code",
   "execution_count": 71,
   "id": "a40a748d-9c11-4bb1-ab38-61a1318afd88",
   "metadata": {},
   "outputs": [
    {
     "name": "stdin",
     "output_type": "stream",
     "text": [
      " 100 80\n"
     ]
    },
    {
     "name": "stdout",
     "output_type": "stream",
     "text": [
      "Eligible\n"
     ]
    }
   ],
   "source": [
    "total_classes, classes_attended=map(int,input().split())\n",
    "if (classes_attended/total_classes)*100>=75:\n",
    "    print(\"Eligible\")\n",
    "else:\n",
    "    print(\"Not eligible\")"
   ]
  },
  {
   "cell_type": "code",
   "execution_count": 73,
   "id": "c76bae46-aa53-4186-80c7-ce5fe733237c",
   "metadata": {},
   "outputs": [
    {
     "name": "stdin",
     "output_type": "stream",
     "text": [
      " 134\n"
     ]
    },
    {
     "name": "stdout",
     "output_type": "stream",
     "text": [
      "Failed\n"
     ]
    }
   ],
   "source": [
    "amount=int(input())\n",
    "if amount%100==0:\n",
    "    print(\"Success\")\n",
    "else:\n",
    "    print(\"Failed\")"
   ]
  },
  {
   "cell_type": "code",
   "execution_count": 76,
   "id": "91e47e61-923c-45d9-874f-93b812b733cf",
   "metadata": {},
   "outputs": [
    {
     "name": "stdin",
     "output_type": "stream",
     "text": [
      " 30\n"
     ]
    },
    {
     "name": "stdout",
     "output_type": "stream",
     "text": [
      "Nice weather, go out!\n"
     ]
    }
   ],
   "source": [
    "temp=int(input())\n",
    "if temp==35:\n",
    "    print(\"Too hot, stay indoors!\")\n",
    "elif temp>20 and temp<35:\n",
    "    print(\"Nice weather, go out!\")\n",
    "else:\n",
    "    print(\"It’s cold, wear warm clothes!\")"
   ]
  },
  {
   "cell_type": "code",
   "execution_count": 81,
   "id": "473d4d46-2649-415a-b0a2-2e440ce28ce9",
   "metadata": {},
   "outputs": [
    {
     "name": "stdin",
     "output_type": "stream",
     "text": [
      " 12\n"
     ]
    },
    {
     "name": "stdout",
     "output_type": "stream",
     "text": [
      "100\n"
     ]
    }
   ],
   "source": [
    "late=int(input())\n",
    "if late>0 and late<6:\n",
    "    fine=10\n",
    "elif late>5 and late<11:\n",
    "    fine=50\n",
    "elif late>10:\n",
    "    fine=100\n",
    "print(fine)"
   ]
  },
  {
   "cell_type": "code",
   "execution_count": 86,
   "id": "9a3b8c93-23c7-482f-a07e-cde84fff1b86",
   "metadata": {},
   "outputs": [
    {
     "name": "stdin",
     "output_type": "stream",
     "text": [
      "Enter units consumed:  150\n"
     ]
    },
    {
     "name": "stdout",
     "output_type": "stream",
     "text": [
      "Bill: 850\n"
     ]
    }
   ],
   "source": [
    "units = int(input(\"Enter units consumed: \"))\n",
    "if units <= 100:\n",
    "    bill = units * 5\n",
    "elif units <= 200:\n",
    "    bill = (100 * 5) + (units - 100) * 7\n",
    "else:\n",
    "    bill = (100 * 5) + (100 * 7) + (units - 200) * 10\n",
    "print(\"Bill:\", bill)"
   ]
  }
 ],
 "metadata": {
  "kernelspec": {
   "display_name": "Python 3 (ipykernel)",
   "language": "python",
   "name": "python3"
  },
  "language_info": {
   "codemirror_mode": {
    "name": "ipython",
    "version": 3
   },
   "file_extension": ".py",
   "mimetype": "text/x-python",
   "name": "python",
   "nbconvert_exporter": "python",
   "pygments_lexer": "ipython3",
   "version": "3.13.5"
  }
 },
 "nbformat": 4,
 "nbformat_minor": 5
}
